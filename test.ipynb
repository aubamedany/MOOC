{
 "cells": [
  {
   "cell_type": "code",
   "execution_count": 3,
   "metadata": {},
   "outputs": [],
   "source": [
    "import pandas as pd\n",
    "import json"
   ]
  },
  {
   "cell_type": "code",
   "execution_count": 4,
   "metadata": {},
   "outputs": [],
   "source": [
    "\n",
    "def load_json(file_path):\n",
    "    '''\n",
    "    Load json file\n",
    "    '''\n",
    "    with open(file_path, 'r', encoding='utf-8') as json_file:\n",
    "        data = json.load(json_file)\n",
    "    return data"
   ]
  },
  {
   "cell_type": "code",
   "execution_count": 186,
   "metadata": {},
   "outputs": [],
   "source": [
    "evidence_trafilatura = load_json(\"/Users/namle/DATN/MOOC/dataset/trafilatura_new.json\")\n",
    "raw_ris_results = load_json(\"/Users/namle/DATN/MOOC/dataset/ris_results.json\")"
   ]
  },
  {
   "cell_type": "code",
   "execution_count": 185,
   "metadata": {},
   "outputs": [
    {
     "data": {
      "text/plain": [
       "{'image_path': 'false_246.jpg',\n",
       " 'urls': ['https://www.youtube.com/watch?v=HOl-zmrqqNM',\n",
       "  'https://www.youtube.com/c/ThePorscheLover/videos',\n",
       "  'https://www.wapcar.my/news/the-real-reason-why-the-great-shah-alam-flood-didn%E2%80%99t-affect-perodua-as-much-as-proton-40867',\n",
       "  'https://shopee.com.my/Flood-Car-Bag-Plastik-Tebal-Panjang-Banjir-Kereta-Reusable-Thick-Waterproof-Plastic-Wrap-Protection-i.401638001.12663938248',\n",
       "  'https://allianz.renewinsurance.my/news/increased-in-special-perils-take-up-rate/',\n",
       "  'https://allianz.renewinsurance.my/category/news/',\n",
       "  'https://allianz.renewinsurance.my/author/admin/',\n",
       "  'https://www.lazada.com.my/products/flood-car-bag-plastik-tebal-panjang-banjir-kereta-reusable-thick-waterproof-plastic-water-flood-protection-anti-flood-car-wrap-plastik-bungkus-kereta-banjir-flood-protection-plastik-banjir-i2728587184.html',\n",
       "  'https://allianz.renewinsurance.my/news/',\n",
       "  'https://www.instagram.com/mazdausedcarplatform/',\n",
       "  'https://www.thestar.com.my/news/nation/2021/12/21/do-not-start-car-during-and-after-floods',\n",
       "  'https://news.nestia.com/detail_share/8044929?media_type=1',\n",
       "  'https://www.ijsdr.org/papers/IJSDR2309152.pdf',\n",
       "  'https://www.youtube.com/watch?v=h4apn0ODxYU',\n",
       "  'https://www.facebook.com/p/Floody-car-bag-100064562534452/',\n",
       "  'https://www.facebook.com/p/Floody-car-bag-100064562534452/?locale=de_DE',\n",
       "  'https://www.facebook.com/p/Floody-car-bag-100064562534452/?locale=fy_NL',\n",
       "  'https://www.facebook.com/p/Floody-car-bag-100064562534452/?locale=nb_NO',\n",
       "  'https://loanstreet.com.my/learning-centre/list-of-flood-aids-to-apply-malaysia',\n",
       "  'https://www.wapcar.my/news/the-real-reason-why-the-great-shah-alam-flood-didn%E2%80%99t-affect-perodua-as-much-as-proton-41123'],\n",
       " 'image_urls': {'https://www.youtube.com/watch?v=HOl-zmrqqNM': ['https://i.ytimg.com/vi/HOl-zmrqqNM/hqdefault.jpg',\n",
       "   'https://i.ytimg.com/vi/HOl-zmrqqNM/mqdefault.jpg'],\n",
       "  'https://www.youtube.com/c/ThePorscheLover/videos': ['https://i.ytimg.com/vi/HOl-zmrqqNM/hqdefault.jpg'],\n",
       "  'https://www.wapcar.my/news/the-real-reason-why-the-great-shah-alam-flood-didn%E2%80%99t-affect-perodua-as-much-as-proton-40867': ['https://img.wapcar.my/file/4bf6ab68e52d4eec98c95ece82f8175b.jpg'],\n",
       "  'https://shopee.com.my/Flood-Car-Bag-Plastik-Tebal-Panjang-Banjir-Kereta-Reusable-Thick-Waterproof-Plastic-Wrap-Protection-i.401638001.12663938248': ['https://down-my.img.susercontent.com/file/my-11134207-7r98x-lpdus347tarc59'],\n",
       "  'https://allianz.renewinsurance.my/news/increased-in-special-perils-take-up-rate/': ['https://allianz.renewinsurance.my/wp-content/uploads/2022/09/car-flooded.jpg',\n",
       "   'https://allianz.renewinsurance.my/wp-content/uploads/2022/09/car-flooded-1024x768.jpg'],\n",
       "  'https://allianz.renewinsurance.my/category/news/': ['https://allianz.renewinsurance.my/wp-content/uploads/2022/09/car-flooded-1024x768.jpg'],\n",
       "  'https://allianz.renewinsurance.my/author/admin/': ['https://allianz.renewinsurance.my/wp-content/uploads/2022/09/car-flooded-1024x768.jpg'],\n",
       "  'https://www.lazada.com.my/products/flood-car-bag-plastik-tebal-panjang-banjir-kereta-reusable-thick-waterproof-plastic-water-flood-protection-anti-flood-car-wrap-plastik-bungkus-kereta-banjir-flood-protection-plastik-banjir-i2728587184.html': ['https://my-test-11.slatic.net/shop/2670041a904dde7b8e197c4639b62a66.png',\n",
       "   'https://my-test-11.slatic.net/p/7e70619a337350e28956d8012f58d21e.jpg'],\n",
       "  'https://allianz.renewinsurance.my/news/': ['https://allianz.renewinsurance.my/wp-content/uploads/2022/09/car-flooded-1024x768.jpg'],\n",
       "  'https://www.instagram.com/mazdausedcarplatform/': ['https://lookaside.instagram.com/seo/google_widget/crawler/?media_id=2734729719057870149'],\n",
       "  'https://www.thestar.com.my/news/nation/2021/12/21/do-not-start-car-during-and-after-floods': ['https://apicms.thestar.com.my/uploads/images/2021/12/21/1414404.webp'],\n",
       "  'https://news.nestia.com/detail_share/8044929?media_type=1': ['https://nestia-food.obs.ap-southeast-3.myhuaweicloud.com/202112/21/7e70619a337350e28956d8012f58d21e.jpg'],\n",
       "  'https://www.ijsdr.org/papers/IJSDR2309152.pdf': [],\n",
       "  'https://www.youtube.com/watch?v=h4apn0ODxYU': ['https://i.ytimg.com/vi/h4apn0ODxYU/hq720.jpg?sqp=-oaymwEhCK4FEIIDSFryq4qpAxMIARUAAAAAGAElAADIQj0AgKJD&rs=AOn4CLD0a5b6zBJ_fms830qDG3zqzHTcNA',\n",
       "   'https://i.ytimg.com/vi/h4apn0ODxYU/mqdefault.jpg',\n",
       "   'https://i.ytimg.com/vi/h4apn0ODxYU/maxresdefault.jpg'],\n",
       "  'https://www.facebook.com/p/Floody-car-bag-100064562534452/': ['https://lookaside.fbsbx.com/lookaside/crawler/media/?media_id=3084102451877893'],\n",
       "  'https://www.facebook.com/p/Floody-car-bag-100064562534452/?locale=de_DE': ['https://lookaside.fbsbx.com/lookaside/crawler/media/?media_id=3084102451877893'],\n",
       "  'https://www.facebook.com/p/Floody-car-bag-100064562534452/?locale=fy_NL': ['https://lookaside.fbsbx.com/lookaside/crawler/media/?media_id=3084102451877893'],\n",
       "  'https://www.facebook.com/p/Floody-car-bag-100064562534452/?locale=nb_NO': ['https://lookaside.fbsbx.com/lookaside/crawler/media/?media_id=3084102451877893'],\n",
       "  'https://loanstreet.com.my/learning-centre/list-of-flood-aids-to-apply-malaysia': ['https://cdn.loanstreet.com.my/learning_articles/images/000/001/272/original/loanstreet-list-of-flood-aids-to-apply-malaysia.jpg?1646815633'],\n",
       "  'https://www.wapcar.my/news/the-real-reason-why-the-great-shah-alam-flood-didn%E2%80%99t-affect-perodua-as-much-as-proton-41123': ['https://img.wapcar.my/file/4bf6ab68e52d4eec98c95ece82f8175b.jpg']},\n",
       " 'visual_entities': {'Car': 1.1018999814987183,\n",
       "  'Flood': 0.9461487531661987,\n",
       "  'Proton Holdings': 0.6817499995231628,\n",
       "  'Perodua': 0.545199990272522,\n",
       "  'The Porsche Lover - Porsche Repair Specialist & Service Centre In Malaysia': 0.5192000269889832,\n",
       "  'SUV': 0.49289998412132263,\n",
       "  'used': 0.48399999737739563,\n",
       "  'Used car': 0.4027000069618225,\n",
       "  'Family car': 0.3873789310455322,\n",
       "  'Car club': 0.3785000145435333,\n",
       "  'Floods in Malaysia': 0.353300005197525,\n",
       "  'Malaysia': 0.1163100004196167}}"
      ]
     },
     "execution_count": 185,
     "metadata": {},
     "output_type": "execute_result"
    }
   ],
   "source": [
    "raw_ris_results[0]"
   ]
  },
  {
   "cell_type": "code",
   "execution_count": 187,
   "metadata": {},
   "outputs": [],
   "source": [
    "def is_likely_html(url):\n",
    "    '''\n",
    "    Check that the evidence url is html\n",
    "    '''\n",
    "    # List of common file extensions\n",
    "    file_extensions = ['.pdf', '.png', '.jpg', '.jpeg', '.gif', '.bmp', '.doc', '.docx', '.ppt', '.pptx', '.xls', \n",
    "                       '.xlsx', '.txt', '.zip', '.rar', '.exe', '.svg', '.mp4', '.avi', '.mp3']\n",
    "\n",
    "    # Extract the extension from the URL\n",
    "    extension = '.' + url.rsplit('.', 1)[-1].lower()\n",
    "\n",
    "    # Check if the URL ends with a common file extension\n",
    "    if extension in file_extensions:\n",
    "        return False\n",
    "    else:\n",
    "        return True\n",
    "def is_obfuscated_or_encoded(url):\n",
    "    '''\n",
    "    Check that the evidence url is not obfuscated or encoded.\n",
    "    '''\n",
    "    unquoted_url = url\n",
    "    try:\n",
    "        return '%' in unquoted_url or '//' in unquoted_url.split('/')[2]\n",
    "    except:\n",
    "        return True"
   ]
  },
  {
   "cell_type": "code",
   "execution_count": null,
   "metadata": {},
   "outputs": [],
   "source": [
    "retrieval_results = []\n",
    "for i in range(len(raw_ris_results)):\n",
    "    for u in range(len(raw_ris_results[i]['urls'])):\n",
    "      evidence_url = raw_ris_results[i]['urls'][u]\n",
    "      ris_data = {\n",
    "                'image_path': raw_ris_results[i]['image_path'],\n",
    "                'raw_url': evidence_url,\n",
    "                'image_urls': raw_ris_results[i]['image_urls'][evidence_url],\n",
    "                'entities':raw_ris_results[i]['visual_entities'],\n",
    "                'is_https': evidence_url.startswith('https')\n",
    "            }\n",
    "      ris_data['is_obfuscated'] = is_obfuscated_or_encoded(ris_data['raw_url'])  \n",
    "      ris_data['is_html'] = is_likely_html(ris_data['raw_url'])\n",
    "      ris_data['selection'] = ris_data['is_html'] and ris_data['is_https'] and not ris_data['is_obfuscated']\n",
    "      retrieval_results.append(ris_data)\n",
    "selected_retrieval_results = [d for d in retrieval_results if d['selection']]\n",
    "# selected_retrieval_results = retrieval_results"
   ]
  },
  {
   "cell_type": "code",
   "execution_count": 235,
   "metadata": {},
   "outputs": [
    {
     "data": {
      "text/plain": [
       "664"
      ]
     },
     "execution_count": 235,
     "metadata": {},
     "output_type": "execute_result"
    }
   ],
   "source": [
    "len(raw_ris_results)"
   ]
  },
  {
   "cell_type": "code",
   "execution_count": 236,
   "metadata": {},
   "outputs": [
    {
     "data": {
      "text/plain": [
       "9590"
      ]
     },
     "execution_count": 236,
     "metadata": {},
     "output_type": "execute_result"
    }
   ],
   "source": [
    "len(selected_retrieval_results)"
   ]
  },
  {
   "cell_type": "code",
   "execution_count": 227,
   "metadata": {},
   "outputs": [],
   "source": [
    "def get_item_by_image_path(data_list, image_path):\n",
    "\n",
    "    for item in data_list:\n",
    "        if item.get('image_path') == image_path:\n",
    "            return item\n",
    "    return None\n"
   ]
  },
  {
   "cell_type": "code",
   "execution_count": 229,
   "metadata": {},
   "outputs": [
    {
     "data": {
      "text/plain": [
       "{'image_path': 'false_103.jpg',\n",
       " 'urls': [],\n",
       " 'image_urls': {},\n",
       " 'visual_entities': {'Bed': 0.45969998836517334,\n",
       "  'Bedroom': 0.4189588129520416,\n",
       "  'Sheet': 0.41630318760871887,\n",
       "  'Henry Molaison': 0.359250009059906,\n",
       "  'Stretcher': 0.33020704984664917,\n",
       "  'Patient': 0.32102951407432556,\n",
       "  'Clinic': 0.31738123297691345,\n",
       "  'Clinic M Medical': 0.28859999775886536}}"
      ]
     },
     "execution_count": 229,
     "metadata": {},
     "output_type": "execute_result"
    }
   ],
   "source": [
    "t = get_item_by_image_path(raw_ris_results,\"false_103.jpg\")\n",
    "t"
   ]
  },
  {
   "cell_type": "code",
   "execution_count": 226,
   "metadata": {},
   "outputs": [
    {
     "data": {
      "text/plain": [
       "{'image_path': 'false_202.jpg',\n",
       " 'urls': ['https://www.cgenomix.com/994f389.htm',\n",
       "  'https://www.cnn.com/2019/08/08/us/rubber-duck-derby-trnd/index.html',\n",
       "  'https://patricksdays.github.io/blog/chicago_patricks_day_river_syracuse_st_patricks_day_parade_2025_video.html',\n",
       "  'https://www.cnn.com/videos/us/2019/08/08/63000-rubber-ducks-ducky-derby-chicago-ya-orig.cnn',\n",
       "  'https://pizzaricetta.no/?p=265070416',\n",
       "  'https://credcertosolucoes.com.br/?c=224569316',\n",
       "  'https://asolar.fr/e1f82a4',\n",
       "  'https://www.lumigen.com/?l=265070416',\n",
       "  'https://landhaus-lemsdorf.de/?l=224569316',\n",
       "  'https://cnnespanol.cnn.com/video/chicago-rio-patos-goma-inundan-es-viral-am-pkg-digital-original',\n",
       "  'https://www.ukr.net/news/details/auto/99202354.html',\n",
       "  'https://www.cnn.com/videos/spanish/2019/08/09/chicago-rio-patos-goma-inundan-es-viral-am-pkg-digital-original.cnn',\n",
       "  'https://dianindahabadi.com/?d=224569316'],\n",
       " 'image_urls': {'https://www.cgenomix.com/994f389.htm': ['https://media.cnn.com/api/v1/images/stellar/prod/190808165636-rubber-ducks-chicago-river.jpg'],\n",
       "  'https://www.cnn.com/2019/08/08/us/rubber-duck-derby-trnd/index.html': ['https://media.cnn.com/api/v1/images/stellar/prod/190808165636-rubber-ducks-chicago-river.jpg?q=w_1110,c_fill',\n",
       "   'https://media.cnn.com/api/v1/images/stellar/prod/190808165636-rubber-ducks-chicago-river.jpg?q=w_1920,h_1080,x_0,y_0,c_fill'],\n",
       "  'https://patricksdays.github.io/blog/chicago_patricks_day_river_syracuse_st_patricks_day_parade_2025_video.html': ['https://cdn.cnn.com/cnnnext/dam/assets/190808165636-rubber-ducks-chicago-river-super-tease.jpg'],\n",
       "  'https://www.cnn.com/videos/us/2019/08/08/63000-rubber-ducks-ducky-derby-chicago-ya-orig.cnn': ['https://media.cnn.com/api/v1/images/stellar/prod/190808165636-rubber-ducks-chicago-river.jpg?q=x_0,y_0,h_1080,w_1919,c_fill/w_800'],\n",
       "  'https://pizzaricetta.no/?p=265070416': ['https://media.cnn.com/api/v1/images/stellar/prod/190808165636-rubber-ducks-chicago-river.jpg'],\n",
       "  'https://credcertosolucoes.com.br/?c=224569316': ['https://cdn.cnn.com/cnnnext/dam/assets/190808165636-rubber-ducks-chicago-river-super-169.jpg'],\n",
       "  'https://asolar.fr/e1f82a4': ['https://media.cnn.com/api/v1/images/stellar/prod/190808165636-rubber-ducks-chicago-river.jpg'],\n",
       "  'https://www.lumigen.com/?l=265070416': ['https://media.cnn.com/api/v1/images/stellar/prod/190808165636-rubber-ducks-chicago-river.jpg'],\n",
       "  'https://landhaus-lemsdorf.de/?l=224569316': ['https://cdn.cnn.com/cnnnext/dam/assets/190808165636-rubber-ducks-chicago-river-super-169.jpg'],\n",
       "  'https://cnnespanol.cnn.com/video/chicago-rio-patos-goma-inundan-es-viral-am-pkg-digital-original': ['https://media.cnn.com/api/v1/images/stellar/prod/cnne-685420-miles-de-patos-de-goma-llenaron-el-rio-chicago.jpg?c=16x9&q=w_1280,c_fill',\n",
       "   'https://media.cnn.com/api/v1/images/stellar/prod/cnne-685420-miles-de-patos-de-goma-llenaron-el-rio-chicago.jpg?c=16x9&q=w_800,c_fill'],\n",
       "  'https://www.ukr.net/news/details/auto/99202354.html': ['https://www.autocentre.ua/wp-content/uploads/2023/08/na-utinyh-gonkah-razygrali-novenkij-chevrolet-trax-2.jpg'],\n",
       "  'https://www.cnn.com/videos/spanish/2019/08/09/chicago-rio-patos-goma-inundan-es-viral-am-pkg-digital-original.cnn': ['https://cdn.cnn.com/cnnnext/dam/assets/190808165636-rubber-ducks-chicago-river-super-169.jpg'],\n",
       "  'https://dianindahabadi.com/?d=224569316': ['https://cdn.cnn.com/cnnnext/dam/assets/190808165636-rubber-ducks-chicago-river-super-169.jpg']},\n",
       " 'visual_entities': {'Chicago River': 1.0528500080108643,\n",
       "  'Rubber duck': 0.7325999736785889,\n",
       "  'Duck': 0.7010999917984009,\n",
       "  'Chicago': 0.6644999980926514,\n",
       "  'River': 0.4896000027656555,\n",
       "  'Rubber duck race': 0.46790000796318054,\n",
       "  'Illinois River': 0.41429999470710754,\n",
       "  'Shoe': 0.4068000018596649,\n",
       "  'Sports shoes': 0.3515999913215637,\n",
       "  'Retro Low Sneakers': 0.323199987411499,\n",
       "  'Racing': 0.2928999960422516,\n",
       "  'Flying duck race': 0.2912999987602234,\n",
       "  'Trainer': 0.26330000162124634,\n",
       "  'Infant': 0.23829999566078186,\n",
       "  'Natural rubber': 0.23319999873638153}}"
      ]
     },
     "execution_count": 226,
     "metadata": {},
     "output_type": "execute_result"
    }
   ],
   "source": [
    "raw_ris_results[1]"
   ]
  },
  {
   "cell_type": "code",
   "execution_count": 212,
   "metadata": {},
   "outputs": [
    {
     "data": {
      "text/plain": [
       "10209"
      ]
     },
     "execution_count": 212,
     "metadata": {},
     "output_type": "execute_result"
    }
   ],
   "source": [
    "len(selected_retrieval_results)"
   ]
  },
  {
   "cell_type": "code",
   "execution_count": 264,
   "metadata": {},
   "outputs": [],
   "source": [
    "def clean_captions(series):\n",
    "    cleaned = []\n",
    "    for caption in series.dropna():\n",
    "            if 'not found' not in caption.lower():\n",
    "                cleaned.append(caption)\n",
    "    return list(set(cleaned)) \n",
    "def merge_data(evidence, evidence_metadata, apply_filtering=False):\n",
    "    '''\n",
    "    Merge all evidence by dropping duplicates and applying 2 filters:\n",
    "    1) The evidence is not the original FC article itself\n",
    "    2) The evidence has been published before the FC article\n",
    "    '''\n",
    "    evidence_df = pd.DataFrame(evidence)\n",
    "    evidence_metadata_df = pd.DataFrame(evidence_metadata)\n",
    "    merged_data = pd.merge(evidence_df, evidence_metadata_df.drop_duplicates(subset='raw_url')[['image_path','raw_url']].rename(columns={'raw_url':'url'}), on='url',how='left')\n",
    "    # merged_data  = merged_data.dropna(subset='evidence_url')\n",
    "    filtered_df = merged_data[~(merged_data['description'].isnull() & merged_data['image'].isnull())]\n",
    "    # merged_data = merged_data[['image_path','title','author',\n",
    "    #                        'description', 'text','image','image_url','image_caption']]\n",
    "\n",
    "    filtered_df = filtered_df[['image_path','title','author',\n",
    "                           'description','image','image_url','image_caption']]\n",
    "    # Step 2: Group by 'image_path' and aggregate\n",
    "    merged_data = filtered_df.groupby('image_path').agg({\n",
    "        'title': lambda x: list(set(x.dropna())),\n",
    "        'author': lambda x: list(set(x.dropna())),\n",
    "        'description': lambda x: list(set(x.dropna())),\n",
    "        'image': lambda x: list(set(x.dropna())),\n",
    "        'image_url': lambda x: list(set(x.dropna())),\n",
    "        'image_caption': clean_captions\n",
    "    }).reset_index()\n",
    "\n",
    "    return merged_data"
   ]
  },
  {
   "cell_type": "code",
   "execution_count": 271,
   "metadata": {},
   "outputs": [
    {
     "data": {
      "text/plain": [
       "{'title': '‘Do not start car during and after floods’',\n",
       " 'author': 'CLEAN ADHESIVES',\n",
       " 'url': 'https://www.thestar.com.my/news/nation/2021/12/21/do-not-start-car-during-and-after-floods',\n",
       " 'description': 'GEORGE TOWN: Leave your car as it is in the event it gets trapped in a flood.',\n",
       " 'text': 'Costly repairs: Several cars partly submerged in water outside a flat in Shah Alam. — Picture taken from social media\\nGEORGE TOWN: Leave your car as it is in the event it gets trapped in a flood.\\nTrying to start the engine after the floodwaters recede can cost you thousands of ringgit in repairs.',\n",
       " 'image': 'https://apicms.thestar.com.my/uploads/images/2021/12/21/1414404.jpg',\n",
       " 'image_url': 'https://apicms.thestar.com.my/uploads/images/2021/12/21/1414404.webp',\n",
       " 'image_caption': 'Several areas hit by floods for the first time;Image not found'}"
      ]
     },
     "execution_count": 271,
     "metadata": {},
     "output_type": "execute_result"
    }
   ],
   "source": [
    "evidence_trafilatura[7]"
   ]
  },
  {
   "cell_type": "code",
   "execution_count": 265,
   "metadata": {},
   "outputs": [],
   "source": [
    "evidence = merge_data(evidence_trafilatura, selected_retrieval_results).fillna('').to_dict(orient='records')"
   ]
  },
  {
   "cell_type": "code",
   "execution_count": 266,
   "metadata": {},
   "outputs": [
    {
     "data": {
      "text/plain": [
       "589"
      ]
     },
     "execution_count": 266,
     "metadata": {},
     "output_type": "execute_result"
    }
   ],
   "source": [
    "len(evidence)"
   ]
  },
  {
   "cell_type": "code",
   "execution_count": 256,
   "metadata": {},
   "outputs": [
    {
     "data": {
      "text/plain": [
       "{'image_path': 'false_102.jpg',\n",
       " 'title': ['Zapotec civilization - Wikipedia',\n",
       "  'The 5 Most Famous Civilisations of Pre-Columbian Art | Barnebys Magazine',\n",
       "  'Zapotec Civilization',\n",
       "  'Batlove Redux: Urgent Praise for our Winged Kin',\n",
       "  'Mask of the Bat God',\n",
       "  'The 5 Most Famous Civilizations of Pre-Columbian Art | Barnebys Magazine',\n",
       "  'Zapotec Jade Bat Assemblage',\n",
       "  'Zapotec Priest Figure',\n",
       "  'Jade in Mesoamerica',\n",
       "  'Archaeology & Art on Instagram: \"The Jade Mask of the Zapotec Bat God, unearthed by archaeologists in the ancient city ruins of Monte Alban, symbolizes the rich cultural and religious tapestry of the powerful Zapotec civilization that once flourished between 100 BC and 200 AD. This remarkable artifact, crafted from 25 pieces of highly valued jade and featuring shell fragment eyes, is on display at the National Museum of Anthropology in Mexico City. It embodies the bat god, an important figure in the Zapotec and wider Mesoamerican belief systems due to bats\\' associations with the underworld and the spirit ancestors, their nocturnal nature linking them to death and spirits, and the unique ecological role they play. Bats, especially the vampire bat native to Mexico, also symbolized bloodletting and human sacrifice practices crucial for securing the maize harvests essential to the civilization\\'s sustenance. The mask\\'s depiction of a bat with a \"nose-leaf\" snout suggests a representation of both the blood-feeding vampire bat and insect-eating species, highlighting the ancient Zapotecs\\' deep connection to and understanding of nature\\'s balance. This understanding acknowledged bats\\' vital role in maintaining crop health by controlling pest populations, a benefit that continues to support agriculture in the region today. #archaeologyart\"'],\n",
       " 'author': ['Ugc',\n",
       "  'James Blake Wiener',\n",
       "  'Adrian Hernandez',\n",
       "  'Giulia Zileri From The Worm',\n",
       "  'Mark Cartwright',\n",
       "  'Tessa Laird'],\n",
       " 'description': ['15K likes, 49 comments - archaeologyart on March 21, 2024: \"The Jade Mask of the Zapotec Bat God, unearthed by archaeologists in the ancient city ruins of Monte Alban, symbolizes the rich cultural and religious tapestry of the powerful Zapotec civilization that once flourished between 100 BC and 200 AD. This remarkable artifact, crafted from 25 pieces of highly valued jade and featuring shell fragment eyes, is on display at the National Museum of Anthropology in Mexico City. It embodies the bat god, an important figure in the Zapotec and wider Mesoamerican belief systems due to bats\\' associations with the underworld and the spirit ancestors, their nocturnal nature linking them to death and spirits, and the unique ecological role they play. Bats, especially the vampire bat native to Mexico, also symbolized bloodletting and human sacrifice practices crucial for securing the maize harvests essential to the civilization\\'s sustenance. The mask\\'s depiction of a bat with a \"nose-leaf\" snout suggests a representation of both the blood-feeding vampire bat and insect-eating species, highlighting the ancient Zapotecs\\' deep connection to and understanding of nature\\'s balance. This understanding acknowledged bats\\' vital role in maintaining crop health by controlling pest populations, a benefit that continues to support agriculture in the region today. #archaeologyart\".',\n",
       "  'In the wake of the Covid pandemic, bats have once again been unfairly maligned. As the go-to scapegoat of choice for many, some even called for the mammals’ eradication. In Batlove Redux, Tessa Laird, author of the book Bat, part of Reaktion’s much-loved Animal series, mounts an impassioned defense of these marvelous creatures. Laird celebrates bats, recalling art and literature inspired by the mammals, while raising the alarm over their plight amidst a warming planet. She recalls her own heartbreaking experiences volunteering to rescue flying-foxes during forest fires at Yarra Bend Park in Australia.',\n",
       "  'Travellers, archaeologists, museum-goers and collectors have long sought after Mesoamerica, a place of great diversity with a rich visual culture. Here are 5 of the most famous Pre-Columbian visual cultures.',\n",
       "  'A ceramic figure-vessel representing a priest of the Zapotec civilization. Oaxaca, Mexico, 250-600 CE. The figure wears a mask, feathered headdress, and a medallion which represents a maize field. (St...',\n",
       "  'This ancient jade mask depicting the Zapotec bat god was found in the ruins of the pyramids of Monte Alban.',\n",
       "  \"The Zapotecs, known as the 'Cloud People', dwelt in the southern highlands of central Mesoamerica, specifically, in the Valley of Oaxaca, which they inhabited from the late Preclassic period to the...\",\n",
       "  'Jade was a highly-esteemed material in many Mesoamerican cultures, making it a valued regional trade good and first choice for objects of religious and artistic value such as masks, ceremonial axeheads...',\n",
       "  'A jade assemblage representing a leaf-nosed bat. Likely worn as a belt or chest adornment. From a Zapotec royal tomb at Monte Alban, Mexico.',\n",
       "  'Travelers, archaeologists, museum-goers and collectors have long sought after Mesoamerica, a place of great diversity with a rich visual culture. Here are 5 of the most famous Pre-Columbian visual cultures.'],\n",
       " 'image': ['https://www.whitefungus.com/sites/default/files/feature_image/SPECTACLED%20FLYING-FOX%20COPYRIGHT%20MERLIN%20TUTTLE%E2%80%99S%20BAT%20CONSERVATION.jpg',\n",
       "  'https://scontent-bru2-1.cdninstagram.com/v/t51.29350-15/434126639_1406370926916529_8430753874477340290_n.jpg?stp=c280.0.840.840a_dst-jpg_e35_s640x640_tt6&_nc_cat=106&ccb=1-7&_nc_sid=18de74&_nc_ohc=c5cdb6EbhTkQ7kNvgGwAK1P&_nc_oc=AdnbF_LnqxGHyU0D9QRh1JJTgzIbKfSTSQwfE6bU3OqQELDGsLnBbVwzJwj7Z5surL0&_nc_zt=23&_nc_ht=scontent-bru2-1.cdninstagram.com&_nc_gid=Qd8qZ8YvQqTTam6pMR0hSA&oh=00_AYHVUGRyDgZnk-d_dGPp-kuJ5ZtnYFb7OZsX7eqBC55p2g&oe=67E464CC',\n",
       "  'https://www.worldhistory.org/img/c/p/1200x627/4090.jpg',\n",
       "  'https://www.worldhistory.org/img/c/p/1200x627/2127.png',\n",
       "  'https://www.worldhistory.org/img/c/p/1200x627/16234.png',\n",
       "  'https://images.prismic.io/barnebys/574e01a4-b133-44c9-8d8e-00bbbec976cb_pre-columbian+hero.png?w=1200&h=600&fit=crop&crop=faces&auto=format%2Ccompress&cs=tinysrgb',\n",
       "  'https://upload.wikimedia.org/wikipedia/commons/thumb/b/be/Zapotecos.png/640px-Zapotecos.png',\n",
       "  'https://img.atlasobscura.com/ssE7LmFoYMjgHSyCqPteBHU6JDufrD07tI46QVFCLmI/rt:fit/w:600/q:81/sm:1/scp:1/ar:1/aHR0cHM6Ly9hdGxh/cy1kZXYuczMuYW1h/em9uYXdzLmNvbS91/cGxvYWRzL3BsYWNl/X2ltYWdlcy8zMDA1/N2QwYWExMDIyNjdk/ZTdfMjU2MHB4LURl/dGFpbF9vZl9CYXRf/R29kX0ZpZ3VyZV8t/X09heGFjYV9IYWxs/Xy1fTXVzZXVtX29m/X0FudGhyb3BvbG9n/eV8tX01leGljb19D/aXR5Xy1fTWV4aWNv/XygxNTMyMzI0NTI5/NykuanBn.jpg'],\n",
       " 'image_url': ['https://www.worldhistory.org/img/c/p/360x202/16234.png?v=1732539784-1659603964',\n",
       "  'https://www.worldhistory.org/uploads/images/16234.png;https://www.worldhistory.org/img/r/p/1500x1500/16234.png;https://www.worldhistory.org/img/r/p/500x600/16234.png?v=1659603924;https://www.worldhistory.org/img/c/p/1200x627/16234.png;https://www.worldhistory.org/img/c/p/1600x900/16234.png',\n",
       "  'https://images.prismic.io/barnebys/574e01a4-b133-44c9-8d8e-00bbbec976cb_pre-columbian+hero.png?w=1200&h=600&fit=crop&crop=faces&auto=format%2Ccompress&cs=tinysrgb;https://images.prismic.io/barnebys/574e01a4-b133-44c9-8d8e-00bbbec976cb_pre-columbian+hero.png?auto=compress,format',\n",
       "  'https://upload.wikimedia.org/wikipedia/commons/thumb/0/0f/Mascara_Dios_Murcielago.jpg/170px-Mascara_Dios_Murcielago.jpg',\n",
       "  'https://www.whitefungus.com/sites/default/files/images/ZAPOTEC%20VAMPIRE%20BAT%20MOSAIC%20MASK%20.jpg',\n",
       "  'https://lookaside.instagram.com/seo/google_widget/crawler/?media_id=3328568824398196154',\n",
       "  'https://www.worldhistory.org/img/r/p/500x600/16234.png?v=1659603924;https://www.worldhistory.org/img/c/p/1600x900/16234.png;https://www.worldhistory.org/img/c/p/1200x627/16234.png;https://www.worldhistory.org/img/r/p/1500x1500/16234.png;https://www.worldhistory.org/uploads/images/16234.png',\n",
       "  'https://img.atlasobscura.com/4kLQsXulobP_jfizqRrFZ-p_Dofb54frBAnchK3snws/rt:fit/h:400/q:81/sm:1/scp:1/ar:1/aHR0cHM6Ly9hdGxh/cy1kZXYuczMuYW1h/em9uYXdzLmNvbS91/cGxvYWRzL3BsYWNl/X2ltYWdlcy8zMDA1/N2QwYWExMDIyNjdk/ZTdfTWFzY2FyYV9E/aW9zX011cmNpZWxh/Z28uanBn.jpg;https://img.atlasobscura.com/y8RK1UOF0SIuEOmJChH2_q_2E6zZjKgT6n4hzWgYMCw/rt:fit/w:1200/q:80/sm:1/scp:1/ar:1/aHR0cHM6Ly9hdGxh/cy1kZXYuczMuYW1h/em9uYXdzLmNvbS91/cGxvYWRzL3BsYWNl/X2ltYWdlcy8zMDA1/N2QwYWExMDIyNjdk/ZTdfTWFzY2FyYV9E/aW9zX011cmNpZWxh/Z28uanBn.jpg'],\n",
       " 'image_caption': ['Monte AlbanGumr51 (CC BY-SA);Monte AlbanGumr51 (CC BY-SA)',\n",
       "  'Female Zapotec Figure;Female Zapotec Figure',\n",
       "  'Zapotec mosaic mask that represents a Bat god, made of 25 pieces of jade, with yellow eyes made of shell. It was found in a tomb at Monte Albán;The Zapotec Civilization at its greatest extent']}"
      ]
     },
     "execution_count": 256,
     "metadata": {},
     "output_type": "execute_result"
    }
   ],
   "source": [
    "evidence[5]"
   ]
  },
  {
   "cell_type": "code",
   "execution_count": 209,
   "metadata": {},
   "outputs": [
    {
     "data": {
      "text/plain": [
       "589"
      ]
     },
     "execution_count": 209,
     "metadata": {},
     "output_type": "execute_result"
    }
   ],
   "source": [
    "len(evidence)"
   ]
  },
  {
   "cell_type": "code",
   "execution_count": 257,
   "metadata": {},
   "outputs": [],
   "source": [
    "import re\n",
    "\n",
    "# Your data list of dictionaries\n",
    "# Assume: data = [ {...}, {...}, ...]\n",
    "\n",
    "# Function to extract number from image_path\n",
    "def extract_number_from_path(item):\n",
    "    match = re.search(r'_(\\d+)', item['image_path'])\n",
    "    return int(match.group(1)) if match else -1\n"
   ]
  },
  {
   "cell_type": "code",
   "execution_count": 202,
   "metadata": {},
   "outputs": [],
   "source": [
    "# Assuming your data is in a list called `data`\n",
    "\n",
    "false_evidence = [item for item in evidence if 'false' in item['image_path']]\n",
    "true_evidence  = [item for item in evidence if 'true' in item['image_path']]\n"
   ]
  },
  {
   "cell_type": "code",
   "execution_count": 247,
   "metadata": {},
   "outputs": [],
   "source": [
    "with open('ooc_new_evidence).json', 'w', encoding='utf-8') as f:\n",
    "    json.dump(false_evidence, f, ensure_ascii=False, indent=2)"
   ]
  },
  {
   "cell_type": "code",
   "execution_count": 217,
   "metadata": {},
   "outputs": [],
   "source": [
    "false_group = sorted(\n",
    "    [item for item in evidence if 'false' in item['image_path']],\n",
    "    key=extract_number_from_path\n",
    ")\n",
    "\n",
    "true_group = sorted(\n",
    "    [item for item in evidence if 'true' in item['image_path']],\n",
    "    key=extract_number_from_path\n",
    ")\n"
   ]
  },
  {
   "cell_type": "code",
   "execution_count": 258,
   "metadata": {},
   "outputs": [
    {
     "data": {
      "text/plain": [
       "315"
      ]
     },
     "execution_count": 258,
     "metadata": {},
     "output_type": "execute_result"
    }
   ],
   "source": [
    "len(true_group)"
   ]
  },
  {
   "cell_type": "code",
   "execution_count": 259,
   "metadata": {},
   "outputs": [
    {
     "data": {
      "text/plain": [
       "274"
      ]
     },
     "execution_count": 259,
     "metadata": {},
     "output_type": "execute_result"
    }
   ],
   "source": [
    "len(false_group)"
   ]
  },
  {
   "cell_type": "code",
   "execution_count": 261,
   "metadata": {},
   "outputs": [
    {
     "name": "stdout",
     "output_type": "stream",
     "text": [
      "Missings false_#.jpg samples:\n",
      "['true_1.jpg', 'true_103.jpg', 'true_117.jpg', 'true_125.jpg', 'true_133.jpg', 'true_137.jpg', 'true_148.jpg', 'true_159.jpg', 'true_176.jpg', 'true_186.jpg', 'true_206.jpg', 'true_231.jpg', 'true_240.jpg', 'true_245.jpg', 'true_263.jpg', 'true_280.jpg', 'true_310.jpg', 'true_311.jpg', 'true_325.jpg', 'true_46.jpg', 'true_7.jpg', 'true_75.jpg', 'true_95.jpg']\n"
     ]
    }
   ],
   "source": [
    "# Step 1: Generate expected list\n",
    "expected = [f\"true_{i}.jpg\" for i in range(337)]  # 0 to 336\n",
    "\n",
    "# Step 2: Extract actual image paths from false_group\n",
    "present = [item['image_path'] for item in true_group]\n",
    "\n",
    "# Step 3: Find missing samples\n",
    "missing = sorted(list(set(expected) - set(present)))\n",
    "\n",
    "print(\"Missings false_#.jpg samples:\")\n",
    "print(missing)\n"
   ]
  },
  {
   "cell_type": "code",
   "execution_count": 251,
   "metadata": {},
   "outputs": [
    {
     "data": {
      "text/plain": [
       "{'image_path': 'true_1.jpg',\n",
       " 'urls': ['https://www.snopes.com/fact-check/electric-scooter-bike-abandoned-graveyard/',\n",
       "  'https://www.snopes.com/tag/electric-vehicles/',\n",
       "  'https://www.snopes.com/category/technology/?pagenum=9',\n",
       "  'https://www.snopes.com/tag/editors-picks/?pagenum=7',\n",
       "  'https://www.youtube.com/watch?v=wOsXYaI5JoI',\n",
       "  'https://de.linkedin.com/in/ulrich-haeger-940209172',\n",
       "  'https://de.linkedin.com/in/alexander-schmid-01a068b2',\n",
       "  'https://de.linkedin.com/in/andreas-dengler-121a9b139',\n",
       "  'https://factuel.afp.com/doc.afp.com.32ZR6BW',\n",
       "  'https://www.liputan6.com/cek-fakta/read/5164327/cek-fakta-tidak-benar-foto-barisan-motor-listrik-mangkrak-karena-mahalnya-baterai',\n",
       "  'https://correctiv.org/faktencheck/2022/12/07/keine-belege-dass-hunderte-elektromopeds-in-china-wegen-abgenutzter-batterien-aufgegeben-wurden/',\n",
       "  'https://correctiv.org/faktencheck/wirtschaft-und-umwelt/',\n",
       "  'https://de.linkedin.com/posts/lioudmila-thalmann_irgendetwas-stimmt-mit-unserem-umweltverstaendnis-activity-7063921732998324224-Srgi',\n",
       "  'https://correctiv.org/faktencheck/klima/',\n",
       "  'https://correctiv.org/faktencheck/2023/06/19/nein-new-yorks-stadtregierung-kuendigte-kein-co2-tracking-von-lebensmitteleinkaeufen-an/',\n",
       "  'https://www.liputan6.com/cek-fakta/read/5164340/simak-hoaks-seputar-motor-listrik-dari-mangkrak-sampai-dibagikan-gratis',\n",
       "  'https://www.liputan6.com/cek-fakta/read/5313901/hoaks-kendaraan-listrik-bermunculan-saat-penggunanya-meningkat-simak-daftarnya',\n",
       "  'https://www.tiktok.com/discover/%D0%B2%D0%B7%D0%B4%D1%83%D1%82%D0%B8%D0%B5-%D0%BC%D0%B0%D1%88%D0%B8%D0%BD-%D0%B2-%D0%BA%D0%B8%D1%82%D0%B0%D0%B5',\n",
       "  'https://www.youtube.com/watch?v=zk7L65Qas9I',\n",
       "  'https://www.tiktok.com/@sreditain/video/7394850761286372641'],\n",
       " 'image_urls': {'https://www.snopes.com/fact-check/electric-scooter-bike-abandoned-graveyard/': ['https://mediaproxy.snopes.com/width/600/https://media.snopes.com/2022/11/a_rumor_said_a_video_showed_electric_scooters_in_china_that_were_abandoned_because_of_battery_costs.jpg',\n",
       "   'https://mediaproxy.snopes.com/width/1200/https://media.snopes.com/2022/11/a_rumor_said_a_video_showed_electric_scooters_in_china_that_were_abandoned_because_of_battery_costs.jpg'],\n",
       "  'https://www.snopes.com/tag/electric-vehicles/': ['https://mediaproxy.snopes.com/width/600/https://media.snopes.com/2022/11/a_rumor_said_a_video_showed_electric_scooters_in_china_that_were_abandoned_because_of_battery_costs.jpg',\n",
       "   'https://media.snopes.com/2022/11/a_rumor_said_a_video_showed_electric_scooters_in_china_that_were_abandoned_because_of_battery_costs.jpg'],\n",
       "  'https://www.snopes.com/category/technology/?pagenum=9': ['https://mediaproxy.snopes.com/width/600/https://media.snopes.com/2022/11/a_rumor_said_a_video_showed_electric_scooters_in_china_that_were_abandoned_because_of_battery_costs.jpg'],\n",
       "  'https://www.snopes.com/tag/editors-picks/?pagenum=7': ['https://mediaproxy.snopes.com/width/600/https://media.snopes.com/2022/11/a_rumor_said_a_video_showed_electric_scooters_in_china_that_were_abandoned_because_of_battery_costs.jpg',\n",
       "   'https://media.snopes.com/2022/11/a_rumor_said_a_video_showed_electric_scooters_in_china_that_were_abandoned_because_of_battery_costs.jpg'],\n",
       "  'https://www.youtube.com/watch?v=wOsXYaI5JoI': ['https://i.ytimg.com/vi/wOsXYaI5JoI/hq720_2.jpg?sqp=-oaymwE7CK4FEIIDSFryq4qpAy0IARUAAAAAGAAlAADIQj0AgKJD8AEB-AGEAoAC4AOKAgwIABABGGUgWShPMA8=&rs=AOn4CLCCwXmCI9v7OZXK_FZuDvNGvkdxYw',\n",
       "   'https://i.ytimg.com/vi/wOsXYaI5JoI/maxres2.jpg?sqp=-oaymwEoCIAKENAF8quKqQMcGADwAQH4AYQCgALgA4oCDAgAEAEYZSBZKE8wDw==&rs=AOn4CLAxomMgG-IpHnj4r52okRwoUIbxEQ'],\n",
       "  'https://de.linkedin.com/in/ulrich-haeger-940209172': ['https://media.licdn.com/dms/image/v2/D4E22AQEGNDvxm93fbg/feedshare-shrink_800/feedshare-shrink_800/0/1684170159191?e=2147483647&v=beta&t=TZZtfD9UZm6DI6FQIHEb1zsRnBBmakRnfA84V_4XdmI'],\n",
       "  'https://de.linkedin.com/in/alexander-schmid-01a068b2': ['https://media.licdn.com/dms/image/v2/D4E22AQEGNDvxm93fbg/feedshare-shrink_800/feedshare-shrink_800/0/1684170159191?e=2147483647&v=beta&t=TZZtfD9UZm6DI6FQIHEb1zsRnBBmakRnfA84V_4XdmI'],\n",
       "  'https://de.linkedin.com/in/andreas-dengler-121a9b139': ['https://media.licdn.com/dms/image/v2/D4E22AQEGNDvxm93fbg/feedshare-shrink_800/feedshare-shrink_800/0/1684170159191?e=2147483647&v=beta&t=TZZtfD9UZm6DI6FQIHEb1zsRnBBmakRnfA84V_4XdmI'],\n",
       "  'https://factuel.afp.com/doc.afp.com.32ZR6BW': ['https://factuel.afp.com/sites/default/files/styles/image_in_article/public/medias/factchecking/g2/2022-12/8d9e945863ead474d5a64c67b8799491.jpeg?itok=P-dH7sLc'],\n",
       "  'https://www.liputan6.com/cek-fakta/read/5164327/cek-fakta-tidak-benar-foto-barisan-motor-listrik-mangkrak-karena-mahalnya-baterai': ['https://cdn0-production-images-kly.akamaized.net/6it6djr0JzUCyShaqT9oQ5suUrw=/800x450/smart/filters:quality(75):strip_icc():format(webp)/kly-media-production/medias/4273271/original/088374500_1672069400-motor_listrik.jpg'],\n",
       "  'https://correctiv.org/faktencheck/2022/12/07/keine-belege-dass-hunderte-elektromopeds-in-china-wegen-abgenutzter-batterien-aufgegeben-wurden/': ['https://correctiv.org/wp-content/uploads/2022/12/elektromopeds-china-batterie-klimawandel-elektrofahrzeuge-tiktok-1412x772.jpg',\n",
       "   'https://correctiv.org/wp-content/uploads/2022/12/elektromopeds-china-batterie-klimawandel-elektrofahrzeuge-tiktok.jpg',\n",
       "   'https://correctiv.org/wp-content/uploads/2022/12/elektromopeds-china-batterie-klimawandel-elektrofahrzeuge-tiktok-220x220.jpg'],\n",
       "  'https://correctiv.org/faktencheck/wirtschaft-und-umwelt/': ['https://correctiv.org/wp-content/uploads/2022/12/elektromopeds-china-batterie-klimawandel-elektrofahrzeuge-tiktok.jpg',\n",
       "   'https://correctiv.org/wp-content/uploads/2023/06/emopeds-elektroroller-elektromuell-frankreich-china-meituan.jpg'],\n",
       "  'https://de.linkedin.com/posts/lioudmila-thalmann_irgendetwas-stimmt-mit-unserem-umweltverstaendnis-activity-7063921732998324224-Srgi': ['https://media.licdn.com/dms/image/v2/D4E22AQEGNDvxm93fbg/feedshare-shrink_800/feedshare-shrink_800/0/1684170159191?e=2147483647&v=beta&t=TZZtfD9UZm6DI6FQIHEb1zsRnBBmakRnfA84V_4XdmI'],\n",
       "  'https://correctiv.org/faktencheck/klima/': ['https://correctiv.org/wp-content/uploads/2023/06/emopeds-elektroroller-elektromuell-frankreich-china-meituan.jpg'],\n",
       "  'https://correctiv.org/faktencheck/2023/06/19/nein-new-yorks-stadtregierung-kuendigte-kein-co2-tracking-von-lebensmitteleinkaeufen-an/': ['https://correctiv.org/wp-content/uploads/2023/06/emopeds-elektroroller-elektromuell-frankreich-china-meituan-1412x772.jpg'],\n",
       "  'https://www.liputan6.com/cek-fakta/read/5164340/simak-hoaks-seputar-motor-listrik-dari-mangkrak-sampai-dibagikan-gratis': ['https://cdn0-production-images-kly.akamaized.net/6it6djr0JzUCyShaqT9oQ5suUrw=/800x450/smart/filters:quality(75):strip_icc():format(webp)/kly-media-production/medias/4273271/original/088374500_1672069400-motor_listrik.jpg'],\n",
       "  'https://www.liputan6.com/cek-fakta/read/5313901/hoaks-kendaraan-listrik-bermunculan-saat-penggunanya-meningkat-simak-daftarnya': ['https://cdn0-production-images-kly.akamaized.net/6it6djr0JzUCyShaqT9oQ5suUrw=/800x450/smart/filters:quality(75):strip_icc():format(webp)/kly-media-production/medias/4273271/original/088374500_1672069400-motor_listrik.jpg'],\n",
       "  'https://www.tiktok.com/discover/%D0%B2%D0%B7%D0%B4%D1%83%D1%82%D0%B8%D0%B5-%D0%BC%D0%B0%D1%88%D0%B8%D0%BD-%D0%B2-%D0%BA%D0%B8%D1%82%D0%B0%D0%B5': ['https://www.tiktok.com/api/img/?itemId=7394850761286372641&location=0&aid=1988'],\n",
       "  'https://www.youtube.com/watch?v=zk7L65Qas9I': ['https://i.ytimg.com/vi/zk7L65Qas9I/mqdefault.jpg',\n",
       "   'https://i.ytimg.com/vi/zk7L65Qas9I/maxresdefault.jpg'],\n",
       "  'https://www.tiktok.com/@sreditain/video/7394850761286372641': ['https://www.tiktok.com/api/img/?itemId=7394850761286372641&location=0&aid=1988']},\n",
       " 'visual_entities': {'Scooter': 0.7188000082969666,\n",
       "  'Electric Scooter': 0.7117999792098999,\n",
       "  'Battery': 0.7056000232696533,\n",
       "  'Electric kick scooter': 0.682200014591217,\n",
       "  'Electric vehicle': 0.5740000009536743,\n",
       "  'Electric car': 0.5425000190734863,\n",
       "  'Motor': 0.5253999829292297,\n",
       "  'Kick scooter': 0.49459999799728394,\n",
       "  'Moped': 0.40950000286102295,\n",
       "  'electromobility': 0.35100001096725464,\n",
       "  'Electricity': 0.3400999903678894,\n",
       "  'Engine': 0.29589998722076416,\n",
       "  'procudi GmbH': 0.2727999985218048}}"
      ]
     },
     "execution_count": 251,
     "metadata": {},
     "output_type": "execute_result"
    }
   ],
   "source": [
    "t = get_item_by_image_path(raw_ris_results,\"true_1.jpg\")\n",
    "t"
   ]
  },
  {
   "cell_type": "code",
   "execution_count": 203,
   "metadata": {},
   "outputs": [
    {
     "data": {
      "text/plain": [
       "274"
      ]
     },
     "execution_count": 203,
     "metadata": {},
     "output_type": "execute_result"
    }
   ],
   "source": [
    "len(false_evidence)"
   ]
  },
  {
   "cell_type": "code",
   "execution_count": 208,
   "metadata": {},
   "outputs": [
    {
     "data": {
      "text/plain": [
       "{'image_path': 'false_101.jpg',\n",
       " 'title': ['Big rise in numbers of migrant children on Mexico-US border',\n",
       "  \"Border apprehensions up 71% in March from February's numbers\",\n",
       "  'Boulder supermarket shooting leaves 10 dead | First Thing',\n",
       "  'Joe Biden raises Trump refugee cap after backlash',\n",
       "  'immigrant detention',\n",
       "  'Photos show crowded conditions for migrants at Texas Border Patrol facility',\n",
       "  'Child migrants: Massive drop in children held by border officials',\n",
       "  'HHS to open new holding facility as migrant presence, confusion on border grows',\n",
       "  'migrant children',\n",
       "  'Why thousands of immigrant children have spent more time than legally allowed at border',\n",
       "  'Biden team was warned of potential border crisis, ex-border official says',\n",
       "  'Migrants, including children, face cramped conditions at South Texas Border Patrol facility',\n",
       "  'Sen. Chris Murphy steps carefully as border politics ripple north',\n",
       "  \"Key takeaways from President Biden's first news conference\"],\n",
       " 'author': ['Molly Blackall',\n",
       "  'Daniella Silva',\n",
       "  'Mark Pazniokas',\n",
       "  'Julián Aguilar',\n",
       "  'Amna Nawaz; Lena I Jackson; Adam Raney; Leah Nagy; Julia Galiano-Rios',\n",
       "  'Anthony Zurcher',\n",
       "  'SCOTT THUMAN; Sinclair Broadcast Group',\n",
       "  'Amna Nawaz; Adam Raney; Meredith Lee; Lena I Jackson; Julia Galiano-Rios'],\n",
       " 'description': ['A suspect has been arrested over the fatal shooting of 10 people including a police officer in a supermarket in Boulder, Colorado. Plus, the US sanctions China over alleged Uighur human rights abuses',\n",
       "  'WASHINGTON (SBG) — Under intensifying pressure, the Biden administration Tuesday released videos and dozens of photographs from inside holding facilities along the southern border, showing living conditions and the handling of unaccompanied children. Caption: (Video: Sinclair Broadcast Group) While the White House acknowledges a need for improvement, it lays blame on the Trump administration. \"We expect to have success, but it\\'s going to take a lot of work,\" Vice President Kamala Harris said.',\n",
       "  'At America’s southern border, the concerning trend continues: more apprehensions and more unaccompanied minors. Caption: Video: Sinclair Broadcast Group. These numbers have not been seen in 15 years. United States Customs and Border Protection temporary overflow facility in Donna, Texas. (Photo: Office of Congressman Henry Cuellar) In March, border enforcement officers apprehended roughly 172,000 people, which is a 71% spike over February’s numbers.',\n",
       "  'It was a cautious performance in which he relied heavily on notes and took no question from Fox News.',\n",
       "  \"The president says the record-low refugee limit he originally stuck by did not 'reflect America's values'.\",\n",
       "  'Images released by a Democratic U.S. representative show settings similar to those that Democrats hammered former President Donald Trump over two years ago, when that administration encountered an increase of migrant apprehensions',\n",
       "  'Amid an influx of immigrant children arriving at the southern border, new images have surfaced from inside the overcrowded facilities on the U.S. side. The Biden administration on Monday sent officials to Mexico to discuss efforts to stem migration north. Amna Nawaz reports on the reasons behind the problem, which starts much farther south.',\n",
       "  'The Department of Health and Human Services on Tuesday announced it will build yet another influx shelter to handle the growing number of unaccompanied migrant children arriving at the U.S.-Mexico border, and mitigate the risks of the spread of COVID-19 among the arrivals. Amna Nawaz reports from the southern border.',\n",
       "  'New photos from an overflow facility in Texas showed crowded conditions for migrants over the weekend.',\n",
       "  'The increase from 380 to nearly 3,500 has overwhelmed local facilities in Mexico, the UN warns.',\n",
       "  'Thousands of migrant children were in US border custody in a surge of arrivals to the US-Mexico border.',\n",
       "  'U.S. Sen. Chris Murphy mildly faulted the Biden administration’s care of the growing numbers of child asylum seekers at the southern border Monday, while accusing Republicans of using the issue to distract from successes in fighting COVID-19 and spurring economic growth.'],\n",
       " 'image': ['https://thumbnails.texastribune.org/CzCQrsC23ZqLpl6HiZNqSKSNbHo=/1200x630/filters:quality(95):watermark(cdn.texastribune.org/media/watermarks/2021.png,-0,30,0)/static.texastribune.org/media/files/a4eae2ec76b24b26b157c385c3e19f94/Donna%20CBP%20Migrant%20Overflow%20Facility%20TT%2001.jpg',\n",
       "  'https://abc6onyourside.com/resources/media/3b7e859d-b7b3-4075-84ad-336d05b2f6f5-large16x9_AP21050025928253.jpg?1617996912668',\n",
       "  'https://kutv.com/resources/media/ea851c3d-8982-47dc-8c1e-dd1445cbf25e-large16x9_AP21050025928253.jpg?1616524326428',\n",
       "  'https://d3i6fh83elv35t.cloudfront.net/static/2021/03/ontheborder-1024x768.jpg',\n",
       "  'https://ichef.bbci.co.uk/ace/branded_news/1200/cpsprodpb/10CFD/production/_117716886_mediaitem117716885.jpg',\n",
       "  'https://ichef.bbci.co.uk/ace/branded_news/1200/cpsprodpb/F795/production/_118118336_mediaitem118118335.jpg',\n",
       "  'https://cbs6albany.com/resources/media/3b7e859d-b7b3-4075-84ad-336d05b2f6f5-large16x9_AP21050025928253.jpg?1617996912668',\n",
       "  'https://i0.wp.com/ctmirror-images.s3.amazonaws.com/wp-content/uploads/2021/03/Screen-Shot-2021-03-22-at-3.10.59-PM.png?fit=494%2C368&ssl=1',\n",
       "  'https://ichef.bbci.co.uk/ace/branded_news/1200/cpsprodpb/123E1/production/_118312747_mediaitem118312746.jpg',\n",
       "  'https://abcnews4.com/resources/media/3b7e859d-b7b3-4075-84ad-336d05b2f6f5-large16x9_AP21050025928253.jpg?1617996912668',\n",
       "  'https://d3i6fh83elv35t.cloudfront.net/static/2021/03/ontheborder1-1024x683.jpg',\n",
       "  'https://ichef.bbci.co.uk/ace/branded_news/1200/cpsprodpb/15B73/production/_117674988_tv065917835.jpg',\n",
       "  'https://d3i6fh83elv35t.cloudfront.net/static/assets/images/social-share.jpg',\n",
       "  'https://media-cldnry.s-nbcnews.com/image/upload/t_nbcnews-fp-1200-630,f_auto,q_auto:best/newscms/2021_12/3458678/210322-donna-texas-migrants-jm-1245.jpg',\n",
       "  'https://i.guim.co.uk/img/media/437becb72f70f181f1a2819966f133bdb0763978/0_103_3133_1880/master/3133.jpg?width=1200&height=630&quality=85&auto=format&fit=crop&overlay-align=bottom%2Cleft&overlay-width=100p&overlay-base64=L2ltZy9zdGF0aWMvb3ZlcmxheXMvdGctYWdlLTIwMjEucG5n&enable=upscale&s=a76ce8538d698f65e4367c6b5a2575f6'],\n",
       " 'image_url': ['https://abcnews4.com/resources/media/d0040a36-3a3f-4d1a-a6c0-6bc0df002b2c-donna1.jpg',\n",
       "  'https://thumbnails.texastribune.org/TP5cxk7o8t3bKpXOHsiY-nOc_kM=/450x300/https://static.texastribune.org/media/files/a4eae2ec76b24b26b157c385c3e19f94/Donna%20CBP%20Migrant%20Overflow%20Facility%20TT%2001.jpg;https://thumbnails.texastribune.org/CzCQrsC23ZqLpl6HiZNqSKSNbHo=/1200x630/filters:quality(95):watermark(cdn.texastribune.org/media/watermarks/2021.png,-0,30,0)/static.texastribune.org/media/files/a4eae2ec76b24b26b157c385c3e19f94/Donna%20CBP%20Migrant%20Overflow%20Facility%20TT%2001.jpg',\n",
       "  'https://ichef.bbci.co.uk/ace/standard/976/cpsprodpb/101C2/production/_117668956_tv066371363.jpg;https://ichef.bbci.co.uk/ace/ws/660/cpsprodpb/16127/production/_117670409_hi066371363.jpg.webp;https://ichef.bbci.co.uk/ace/ws/640/cpsprodpb/101C2/production/_117668956_tv066371363.jpg.webp;https://ichef.bbci.co.uk/ace/standard/976/cpsprodpb/16127/production/_117670409_hi066371363.jpg',\n",
       "  'https://d3i6fh83elv35t.cloudfront.net/static/2021/03/2021-03-22T182749Z_1463296933_RC2DGM9JE5F0_RTRMADP_3_USA-IMMIGRATION-425x319.jpg',\n",
       "  'https://cbs6albany.com/resources/media/d0040a36-3a3f-4d1a-a6c0-6bc0df002b2c-donna1.jpg',\n",
       "  'https://ichef.bbci.co.uk/ace/ws/660/cpsprodpb/16127/production/_117670409_hi066371363.jpg.webp;https://ichef.bbci.co.uk/ace/standard/976/cpsprodpb/16127/production/_117670409_hi066371363.jpg',\n",
       "  'https://media-cldnry.s-nbcnews.com/image/upload/t_fit-760w,f_auto,q_auto:best/newscms/2021_12/3458679/210322-migrants-donna-texas-jm-1250.jpg;https://media-cldnry.s-nbcnews.com/image/upload/t_fit-560w,f_auto,q_auto:best/newscms/2021_12/3458679/210322-migrants-donna-texas-jm-1250.jpg;https://media-cldnry.s-nbcnews.com/image/upload/newscms/2021_12/3458679/210322-migrants-donna-texas-jm-1250.jpg',\n",
       "  'https://i0.wp.com/ctmirror-images.s3.amazonaws.com/wp-content/uploads/2021/03/Screen-Shot-2021-03-22-at-3.10.59-PM.png?resize=607%2C452&ssl=1',\n",
       "  'https://kutv.com/resources/media/00cb04e6-126d-4525-aead-50af8eb06d6f-large16x9_donna1.jpg?1616524352074',\n",
       "  'https://abc6onyourside.com/resources/media/d0040a36-3a3f-4d1a-a6c0-6bc0df002b2c-donna1.jpg',\n",
       "  'https://d3i6fh83elv35t.cloudfront.net/static/2021/03/2021-03-22T182749Z_1463296933_RC2DGM9JE5F0_RTRMADP_3_USA-IMMIGRATION-768x576.jpg',\n",
       "  'https://ichef.bbci.co.uk/ace/standard/976/cpsprodpb/633F/production/_117670452_hi066371363.jpg;https://ichef.bbci.co.uk/ace/ws/640/cpsprodpb/633F/production/_117670452_hi066371363.jpg.webp',\n",
       "  'https://i.guim.co.uk/img/media/bbd8e5b5eb453257921dc1bc48eb75e7cd5fc3ae/0_525_3500_2100/master/3500.jpg?width=700&quality=85&auto=format&fit=max&s=a544986a001ec6e8db130bf545fc09e1'],\n",
       " 'image_caption': ['Image caption, President Biden is facing a record surge of immigrants at the US-Mexico border;Image caption, The images have raised concerns over conditions at facilities at the US-Mexico border;Image caption, Migrants at Karatepe refugee camp in Greece',\n",
       "  'Photo of a detention center in Donna, Texas released by U.S. Rep. Henry Cuellar. Credit: U.S. Rep. Henry Cuellar.;Photo of a detention center in Donna, Texas released by U.S. Rep. Henry Cuellar. Credit: U.S. Rep. Henry Cuellar.',\n",
       "  'Migrants at the US Customs and Border Protection temporary processing centre in Donna, Texas, 22 March 2021;Migrant;Image caption, Migrant children wait to enter a temporary shelter in Ciudad JuÃ¡rez, Mexico']}"
      ]
     },
     "execution_count": 208,
     "metadata": {},
     "output_type": "execute_result"
    }
   ],
   "source": [
    "false_evidence[4]"
   ]
  },
  {
   "cell_type": "code",
   "execution_count": 204,
   "metadata": {},
   "outputs": [
    {
     "data": {
      "text/plain": [
       "315"
      ]
     },
     "execution_count": 204,
     "metadata": {},
     "output_type": "execute_result"
    }
   ],
   "source": [
    "len(true_evidence)"
   ]
  },
  {
   "cell_type": "code",
   "execution_count": 78,
   "metadata": {},
   "outputs": [
    {
     "data": {
      "text/plain": [
       "{'image_path': 'false_246.jpg',\n",
       " 'urls': ['https://www.youtube.com/watch?v=HOl-zmrqqNM',\n",
       "  'https://www.youtube.com/c/ThePorscheLover/videos',\n",
       "  'https://www.wapcar.my/news/the-real-reason-why-the-great-shah-alam-flood-didn%E2%80%99t-affect-perodua-as-much-as-proton-40867',\n",
       "  'https://shopee.com.my/Flood-Car-Bag-Plastik-Tebal-Panjang-Banjir-Kereta-Reusable-Thick-Waterproof-Plastic-Wrap-Protection-i.401638001.12663938248',\n",
       "  'https://allianz.renewinsurance.my/news/increased-in-special-perils-take-up-rate/',\n",
       "  'https://allianz.renewinsurance.my/category/news/',\n",
       "  'https://allianz.renewinsurance.my/author/admin/',\n",
       "  'https://www.lazada.com.my/products/flood-car-bag-plastik-tebal-panjang-banjir-kereta-reusable-thick-waterproof-plastic-water-flood-protection-anti-flood-car-wrap-plastik-bungkus-kereta-banjir-flood-protection-plastik-banjir-i2728587184.html',\n",
       "  'https://allianz.renewinsurance.my/news/',\n",
       "  'https://www.instagram.com/mazdausedcarplatform/',\n",
       "  'https://www.thestar.com.my/news/nation/2021/12/21/do-not-start-car-during-and-after-floods',\n",
       "  'https://news.nestia.com/detail_share/8044929?media_type=1',\n",
       "  'https://www.ijsdr.org/papers/IJSDR2309152.pdf',\n",
       "  'https://www.youtube.com/watch?v=h4apn0ODxYU',\n",
       "  'https://www.facebook.com/p/Floody-car-bag-100064562534452/',\n",
       "  'https://www.facebook.com/p/Floody-car-bag-100064562534452/?locale=de_DE',\n",
       "  'https://www.facebook.com/p/Floody-car-bag-100064562534452/?locale=fy_NL',\n",
       "  'https://www.facebook.com/p/Floody-car-bag-100064562534452/?locale=nb_NO',\n",
       "  'https://loanstreet.com.my/learning-centre/list-of-flood-aids-to-apply-malaysia',\n",
       "  'https://www.wapcar.my/news/the-real-reason-why-the-great-shah-alam-flood-didn%E2%80%99t-affect-perodua-as-much-as-proton-41123'],\n",
       " 'image_urls': {'https://www.youtube.com/watch?v=HOl-zmrqqNM': ['https://i.ytimg.com/vi/HOl-zmrqqNM/hqdefault.jpg',\n",
       "   'https://i.ytimg.com/vi/HOl-zmrqqNM/mqdefault.jpg'],\n",
       "  'https://www.youtube.com/c/ThePorscheLover/videos': ['https://i.ytimg.com/vi/HOl-zmrqqNM/hqdefault.jpg'],\n",
       "  'https://www.wapcar.my/news/the-real-reason-why-the-great-shah-alam-flood-didn%E2%80%99t-affect-perodua-as-much-as-proton-40867': ['https://img.wapcar.my/file/4bf6ab68e52d4eec98c95ece82f8175b.jpg'],\n",
       "  'https://shopee.com.my/Flood-Car-Bag-Plastik-Tebal-Panjang-Banjir-Kereta-Reusable-Thick-Waterproof-Plastic-Wrap-Protection-i.401638001.12663938248': ['https://down-my.img.susercontent.com/file/my-11134207-7r98x-lpdus347tarc59'],\n",
       "  'https://allianz.renewinsurance.my/news/increased-in-special-perils-take-up-rate/': ['https://allianz.renewinsurance.my/wp-content/uploads/2022/09/car-flooded.jpg',\n",
       "   'https://allianz.renewinsurance.my/wp-content/uploads/2022/09/car-flooded-1024x768.jpg'],\n",
       "  'https://allianz.renewinsurance.my/category/news/': ['https://allianz.renewinsurance.my/wp-content/uploads/2022/09/car-flooded-1024x768.jpg'],\n",
       "  'https://allianz.renewinsurance.my/author/admin/': ['https://allianz.renewinsurance.my/wp-content/uploads/2022/09/car-flooded-1024x768.jpg'],\n",
       "  'https://www.lazada.com.my/products/flood-car-bag-plastik-tebal-panjang-banjir-kereta-reusable-thick-waterproof-plastic-water-flood-protection-anti-flood-car-wrap-plastik-bungkus-kereta-banjir-flood-protection-plastik-banjir-i2728587184.html': ['https://my-test-11.slatic.net/shop/2670041a904dde7b8e197c4639b62a66.png',\n",
       "   'https://my-test-11.slatic.net/p/7e70619a337350e28956d8012f58d21e.jpg'],\n",
       "  'https://allianz.renewinsurance.my/news/': ['https://allianz.renewinsurance.my/wp-content/uploads/2022/09/car-flooded-1024x768.jpg'],\n",
       "  'https://www.instagram.com/mazdausedcarplatform/': ['https://lookaside.instagram.com/seo/google_widget/crawler/?media_id=2734729719057870149'],\n",
       "  'https://www.thestar.com.my/news/nation/2021/12/21/do-not-start-car-during-and-after-floods': ['https://apicms.thestar.com.my/uploads/images/2021/12/21/1414404.webp'],\n",
       "  'https://news.nestia.com/detail_share/8044929?media_type=1': ['https://nestia-food.obs.ap-southeast-3.myhuaweicloud.com/202112/21/7e70619a337350e28956d8012f58d21e.jpg'],\n",
       "  'https://www.ijsdr.org/papers/IJSDR2309152.pdf': [],\n",
       "  'https://www.youtube.com/watch?v=h4apn0ODxYU': ['https://i.ytimg.com/vi/h4apn0ODxYU/hq720.jpg?sqp=-oaymwEhCK4FEIIDSFryq4qpAxMIARUAAAAAGAElAADIQj0AgKJD&rs=AOn4CLD0a5b6zBJ_fms830qDG3zqzHTcNA',\n",
       "   'https://i.ytimg.com/vi/h4apn0ODxYU/mqdefault.jpg',\n",
       "   'https://i.ytimg.com/vi/h4apn0ODxYU/maxresdefault.jpg'],\n",
       "  'https://www.facebook.com/p/Floody-car-bag-100064562534452/': ['https://lookaside.fbsbx.com/lookaside/crawler/media/?media_id=3084102451877893'],\n",
       "  'https://www.facebook.com/p/Floody-car-bag-100064562534452/?locale=de_DE': ['https://lookaside.fbsbx.com/lookaside/crawler/media/?media_id=3084102451877893'],\n",
       "  'https://www.facebook.com/p/Floody-car-bag-100064562534452/?locale=fy_NL': ['https://lookaside.fbsbx.com/lookaside/crawler/media/?media_id=3084102451877893'],\n",
       "  'https://www.facebook.com/p/Floody-car-bag-100064562534452/?locale=nb_NO': ['https://lookaside.fbsbx.com/lookaside/crawler/media/?media_id=3084102451877893'],\n",
       "  'https://loanstreet.com.my/learning-centre/list-of-flood-aids-to-apply-malaysia': ['https://cdn.loanstreet.com.my/learning_articles/images/000/001/272/original/loanstreet-list-of-flood-aids-to-apply-malaysia.jpg?1646815633'],\n",
       "  'https://www.wapcar.my/news/the-real-reason-why-the-great-shah-alam-flood-didn%E2%80%99t-affect-perodua-as-much-as-proton-41123': ['https://img.wapcar.my/file/4bf6ab68e52d4eec98c95ece82f8175b.jpg']},\n",
       " 'visual_entities': {'Car': 1.1018999814987183,\n",
       "  'Flood': 0.9461487531661987,\n",
       "  'Proton Holdings': 0.6817499995231628,\n",
       "  'Perodua': 0.545199990272522,\n",
       "  'The Porsche Lover - Porsche Repair Specialist & Service Centre In Malaysia': 0.5192000269889832,\n",
       "  'SUV': 0.49289998412132263,\n",
       "  'used': 0.48399999737739563,\n",
       "  'Used car': 0.4027000069618225,\n",
       "  'Family car': 0.3873789310455322,\n",
       "  'Car club': 0.3785000145435333,\n",
       "  'Floods in Malaysia': 0.353300005197525,\n",
       "  'Malaysia': 0.1163100004196167}}"
      ]
     },
     "execution_count": 78,
     "metadata": {},
     "output_type": "execute_result"
    }
   ],
   "source": [
    "raw_ris_results[0]"
   ]
  },
  {
   "cell_type": "code",
   "execution_count": 76,
   "metadata": {},
   "outputs": [
    {
     "data": {
      "text/plain": [
       "{'title': 'Update your browser',\n",
       " 'author': None,\n",
       " 'url': 'https://www.youtube.com/watch?v=HOl-zmrqqNM',\n",
       " 'description': None,\n",
       " 'text': '! [] (https://www.youtube.com/img/desktop/supported_browsers/dinosaur.png)\\nUpdate your browser\\nYour browser is no longer supported. Update your browser to get the most out of YouTube and our latest features. Learn moreRemember later\\nYour browser is no longer supported. Update your browser to get the most out of YouTube and our latest features. Learn moreRemember later',\n",
       " 'image': None,\n",
       " 'image_url': 'https://i.ytimg.com/vi/HOl-zmrqqNM/hqdefault.jpg;https://i.ytimg.com/vi/HOl-zmrqqNM/mqdefault.jpg',\n",
       " 'image_caption': 'Image not found;Image not found'}"
      ]
     },
     "execution_count": 76,
     "metadata": {},
     "output_type": "execute_result"
    }
   ],
   "source": [
    "evidence_trafilatura[0]"
   ]
  },
  {
   "cell_type": "code",
   "execution_count": 81,
   "metadata": {},
   "outputs": [
    {
     "data": {
      "text/plain": [
       "{'image_path': 'false_246.jpg',\n",
       " 'title': 'Update your browser',\n",
       " 'author': '',\n",
       " 'description': '',\n",
       " 'text': '! [] (https://www.youtube.com/img/desktop/supported_browsers/dinosaur.png)\\nUpdate your browser\\nYour browser is no longer supported. Update your browser to get the most out of YouTube and our latest features. Learn moreRemember later\\nYour browser is no longer supported. Update your browser to get the most out of YouTube and our latest features. Learn moreRemember later',\n",
       " 'image': '',\n",
       " 'image_url': 'https://i.ytimg.com/vi/HOl-zmrqqNM/hqdefault.jpg;https://i.ytimg.com/vi/HOl-zmrqqNM/mqdefault.jpg',\n",
       " 'image_caption': 'Image not found;Image not found'}"
      ]
     },
     "execution_count": 81,
     "metadata": {},
     "output_type": "execute_result"
    }
   ],
   "source": [
    "evidence[0]"
   ]
  },
  {
   "cell_type": "code",
   "execution_count": 93,
   "metadata": {},
   "outputs": [
    {
     "data": {
      "text/plain": [
       "{'image_path': 'false_246.jpg',\n",
       " 'raw_url': 'https://loanstreet.com.my/learning-centre/list-of-flood-aids-to-apply-malaysia',\n",
       " 'image_urls': ['https://cdn.loanstreet.com.my/learning_articles/images/000/001/272/original/loanstreet-list-of-flood-aids-to-apply-malaysia.jpg?1646815633'],\n",
       " 'is_https': True,\n",
       " 'is_obfuscated': False,\n",
       " 'is_html': True,\n",
       " 'selection': True}"
      ]
     },
     "execution_count": 93,
     "metadata": {},
     "output_type": "execute_result"
    }
   ],
   "source": [
    "selected_retrieval_results[16]"
   ]
  },
  {
   "cell_type": "code",
   "execution_count": null,
   "metadata": {},
   "outputs": [],
   "source": [
    "selected_retrieval_results = selected_retrieval_results[:16]\n",
    "urls = [d['raw_url'] for d in selected_retrieval_results]\n",
    "images = [d['image_urls'] for d in selected_retrieval_results]"
   ]
  },
  {
   "cell_type": "code",
   "execution_count": null,
   "metadata": {},
   "outputs": [],
   "source": [
    "evidence_trafilatura"
   ]
  },
  {
   "cell_type": "code",
   "execution_count": 51,
   "metadata": {},
   "outputs": [
    {
     "data": {
      "text/plain": [
       "312"
      ]
     },
     "execution_count": 51,
     "metadata": {},
     "output_type": "execute_result"
    }
   ],
   "source": [
    "len(evidence_trafilatura)"
   ]
  },
  {
   "cell_type": "code",
   "execution_count": 57,
   "metadata": {},
   "outputs": [
    {
     "data": {
      "text/plain": [
       "9590"
      ]
     },
     "execution_count": 57,
     "metadata": {},
     "output_type": "execute_result"
    }
   ],
   "source": [
    "len(selected_retrieval_results)"
   ]
  },
  {
   "cell_type": "code",
   "execution_count": 21,
   "metadata": {},
   "outputs": [
    {
     "data": {
      "text/plain": [
       "{'title': 'Update your browser',\n",
       " 'author': None,\n",
       " 'url': 'https://www.youtube.com/watch?v=HOl-zmrqqNM',\n",
       " 'description': None,\n",
       " 'text': '! [] (https://www.youtube.com/img/desktop/supported_browsers/dinosaur.png)\\nUpdate your browser\\nYour browser is no longer supported. Update your browser to get the most out of YouTube and our latest features. Learn moreRemember later\\nYour browser is no longer supported. Update your browser to get the most out of YouTube and our latest features. Learn moreRemember later',\n",
       " 'image': None,\n",
       " 'image_url': 'https://i.ytimg.com/vi/HOl-zmrqqNM/hqdefault.jpg;https://i.ytimg.com/vi/HOl-zmrqqNM/mqdefault.jpg',\n",
       " 'image_caption': 'Image not found;Image not found'}"
      ]
     },
     "execution_count": 21,
     "metadata": {},
     "output_type": "execute_result"
    }
   ],
   "source": [
    "evidence_trafilatura[0]"
   ]
  },
  {
   "cell_type": "code",
   "execution_count": 117,
   "metadata": {},
   "outputs": [],
   "source": [
    "import boto3\n",
    "import requests\n",
    "from trafilatura import bare_extraction, extract\n",
    "import Levenshtein as lev\n",
    "from tqdm import tqdm\n",
    "from bs4 import BeautifulSoup as bs"
   ]
  },
  {
   "cell_type": "code",
   "execution_count": 99,
   "metadata": {},
   "outputs": [],
   "source": [
    "def compute_url_distance(url1,url2,threshold):\n",
    "    distance = lev.distance(url1,url2)\n",
    "    if distance < threshold:\n",
    "        return True\n",
    "    else:\n",
    "        return False\n",
    "def find_image_caption(soup, image_url,threshold=25):\n",
    "    '''\n",
    "    Retrieve the caption corresponding to an image url by searching the html in BeautifulSoup format.\n",
    "    '''\n",
    "    img_tag = None\n",
    "    for img in soup.find_all('img'):\n",
    "        src = img.get('src') or img.get('data-src') or img.get('data-original')\n",
    "        if src and compute_url_distance(src, image_url, threshold):\n",
    "            img_tag = img\n",
    "            break\n",
    "    if not img_tag:\n",
    "        return \"Image not found\"\n",
    "    figure = img_tag.find_parent('figure')\n",
    "    if figure:\n",
    "        figcaption = figure.find('figcaption')\n",
    "        if figcaption:\n",
    "            return figcaption.get_text().strip()\n",
    "    for sibling in img_tag.find_next_siblings(['div', 'p','small']):\n",
    "        if sibling.get_text().strip():\n",
    "            return sibling.get_text().strip()\n",
    "    title = img_tag.get('title')\n",
    "    if title:\n",
    "        return title.strip()\n",
    "    # Strategy 4: Use the alt attribute of the image\n",
    "    alt_text = img_tag.get('alt')\n",
    "    if alt_text:\n",
    "        return alt_text.strip()\n",
    "\n",
    "    return \"Caption not found\""
   ]
  },
  {
   "cell_type": "code",
   "execution_count": null,
   "metadata": {},
   "outputs": [],
   "source": [
    "def merge_data(evidence, evidence_metadata, apply_filtering=False):\n",
    "    '''\n",
    "    Merge all evidence by dropping duplicates and applying 2 filters:\n",
    "    1) The evidence is not the original FC article itself\n",
    "    2) The evidence has been published before the FC article\n",
    "    '''\n",
    "    evidence_df = pd.DataFrame(evidence)\n",
    "    evidence_metadata_df = pd.DataFrame(evidence_metadata)\n",
    "    merged_data = pd.merge(evidence_df, evidence_metadata_df.drop_duplicates(subset='raw_url')[['image_path','raw_url']].rename(columns={'raw_url':'url'}), on='url',how='left')\n",
    "    # merged_data  = merged_data.dropna(subset='evidence_url')\n",
    "    filtered_df = merged_data[~(merged_data['description'].isnull() & merged_data['image'].isnull())]\n",
    "    merged_data = merged_data[['image_path','title','author',\n",
    "                           'description', 'text','image','image_url','image_caption']]\n",
    "    # Step 2: Group by 'image_path' and aggregate\n",
    "    merged_data = filtered_df.groupby('image_path').agg({\n",
    "        'title': lambda x: list(set(x.dropna())),\n",
    "        'author': lambda x: list(set(x.dropna())),\n",
    "        'description': lambda x: list(set(x.dropna())),\n",
    "        'image': lambda x: list(set(x.dropna())),\n",
    "        'image_url': lambda x: list(set(url for sublist in x.dropna() for url in sublist)),\n",
    "        'image_caption': lambda x: list(set(cap for sublist in x.dropna() for cap in sublist))\n",
    "    }).reset_index()\n",
    "\n",
    "    return merged_data"
   ]
  },
  {
   "cell_type": "code",
   "execution_count": 100,
   "metadata": {},
   "outputs": [],
   "source": [
    "def extract_info_trafilatura(page_url,image_url):\n",
    "    try:\n",
    "        headers= {'User-Agent':'Mozilla/5.0 (Windows NT 10.0; Win64; x64) AppleWebKit/537.36 (KHTML, like Gecko) Chrome/58.0.3029.110 Safari/537.3'}\n",
    "        response = requests.get(page_url, headers=headers, timeout=(10,10))\n",
    "        if response.status_code == 200:\n",
    "            #Extract content with Trafilatura\n",
    "            result = bare_extraction(response.text,\n",
    "                                   include_images=True,\n",
    "                                   include_tables=False)\n",
    "            #Remove unnecessary content\n",
    "            keys_to_keep = ['title','author','url',\n",
    "                            'description',\n",
    "                            'text','image']\n",
    "            result = {key: result[key] for key in keys_to_keep if key in result}\n",
    "            result['image_url'] = image_url\n",
    "            # Finding the image caption\n",
    "            image_caption = []\n",
    "            soup = bs(response.text, 'html.parser')\n",
    "            for img in image_url:\n",
    "                image_caption.append(find_image_caption(soup, img))\n",
    "            if result['image']:\n",
    "              image_caption.append(find_image_caption(soup,result['image']))\n",
    "            result['image_caption'] = image_caption\n",
    "            result['url'] = page_url\n",
    "            return result\n",
    "        else:\n",
    "            return \"Failed to retrieve webpage\"\n",
    "    except Exception as e:\n",
    "        return f\"Error occurred: {e}\""
   ]
  },
  {
   "cell_type": "code",
   "execution_count": 107,
   "metadata": {},
   "outputs": [],
   "source": [
    "selected_retrieval_results = selected_retrieval_results[:16]\n",
    "urls = [d['raw_url'] for d in selected_retrieval_results]\n",
    "images = [d['image_urls'] for d in selected_retrieval_results]"
   ]
  },
  {
   "cell_type": "code",
   "execution_count": 108,
   "metadata": {},
   "outputs": [
    {
     "data": {
      "text/plain": [
       "['https://www.youtube.com/watch?v=HOl-zmrqqNM',\n",
       " 'https://www.youtube.com/c/ThePorscheLover/videos',\n",
       " 'https://shopee.com.my/Flood-Car-Bag-Plastik-Tebal-Panjang-Banjir-Kereta-Reusable-Thick-Waterproof-Plastic-Wrap-Protection-i.401638001.12663938248',\n",
       " 'https://allianz.renewinsurance.my/news/increased-in-special-perils-take-up-rate/',\n",
       " 'https://allianz.renewinsurance.my/category/news/',\n",
       " 'https://allianz.renewinsurance.my/author/admin/',\n",
       " 'https://www.lazada.com.my/products/flood-car-bag-plastik-tebal-panjang-banjir-kereta-reusable-thick-waterproof-plastic-water-flood-protection-anti-flood-car-wrap-plastik-bungkus-kereta-banjir-flood-protection-plastik-banjir-i2728587184.html',\n",
       " 'https://allianz.renewinsurance.my/news/',\n",
       " 'https://www.instagram.com/mazdausedcarplatform/',\n",
       " 'https://www.thestar.com.my/news/nation/2021/12/21/do-not-start-car-during-and-after-floods',\n",
       " 'https://news.nestia.com/detail_share/8044929?media_type=1',\n",
       " 'https://www.youtube.com/watch?v=h4apn0ODxYU',\n",
       " 'https://www.facebook.com/p/Floody-car-bag-100064562534452/',\n",
       " 'https://www.facebook.com/p/Floody-car-bag-100064562534452/?locale=de_DE',\n",
       " 'https://www.facebook.com/p/Floody-car-bag-100064562534452/?locale=fy_NL',\n",
       " 'https://www.facebook.com/p/Floody-car-bag-100064562534452/?locale=nb_NO']"
      ]
     },
     "execution_count": 108,
     "metadata": {},
     "output_type": "execute_result"
    }
   ],
   "source": [
    "urls"
   ]
  },
  {
   "cell_type": "code",
   "execution_count": 119,
   "metadata": {},
   "outputs": [
    {
     "data": {
      "text/plain": [
       "[{'title': 'Please update your browser',\n",
       "  'author': None,\n",
       "  'url': 'https://www.youtube.com/watch?v=HOl-zmrqqNM',\n",
       "  'description': None,\n",
       "  'text': '! [] ( https://www.youtube.com/img/desktop/supported_browsers/dinosaur.png)\\nPlease update your browser\\nYour browser is no longer supported. Please update your browser for the best experience and enjoy the latest features on YouTube. Learn moreRemind me later\\nYour browser is no longer supported. Please update your browser for the best experience and enjoy the latest features on YouTube. Learn moreRemind me later',\n",
       "  'image': None,\n",
       "  'image_url': ['https://i.ytimg.com/vi/HOl-zmrqqNM/hqdefault.jpg',\n",
       "   'https://i.ytimg.com/vi/HOl-zmrqqNM/mqdefault.jpg'],\n",
       "  'image_caption': ['Image not found', 'Image not found']},\n",
       " {'title': 'The Porsche Lover',\n",
       "  'author': None,\n",
       "  'url': 'https://www.youtube.com/c/ThePorscheLover/videos',\n",
       "  'description': \"Hi! I'm Adrian, The Porsche Lover & on my channel, I will be sharing the passion for Porsches. I will also be sharing on car tips ranging from maintenance, technical and even products. 😬\",\n",
       "  'text': 'introduction\\nThe Press\\nCopyright\\nContact Us\\nCreators\\nadvertisement\\nDevelopers\\nTerms\\nPrivileges de privacidad\\nPolicy and safety\\nHow YouTube Works\\nTry new features\\n© 2025 Google LLC',\n",
       "  'image': 'https://yt3.googleusercontent.com/kgeUtj0EDvHosAANkPJInYQgoDfvVjMyv7FJSdxmOKWzK6UbxNkcnVdTKvKEqU3tugOWuEIBXA=s900-c-k-c0x00ffffff-no-rj',\n",
       "  'image_url': ['https://i.ytimg.com/vi/HOl-zmrqqNM/hqdefault.jpg'],\n",
       "  'image_caption': ['Image not found', 'Image not found']},\n",
       " {'title': 'Increased in Special Perils Take Up Rate - Renew Allianz Insurance Online',\n",
       "  'author': 'Admin',\n",
       "  'url': 'https://allianz.renewinsurance.my/news/increased-in-special-perils-take-up-rate/',\n",
       "  'description': 'The Special Perils is an additional coverage which motorist can opt for to cover from loss or damage caused by natural disasters such as floods, storms, earthquakes, landslides and so on.',\n",
       "  'text': '![](https://allianz.renewinsurance.my/wp-content/uploads/2022/09/car-flooded-1024x768.jpg)\\nThe Special Perils is an additional coverage which motorist can opt for to cover from loss or damage caused by natural disasters such as floods, storms, earthquakes, landslides and so on. The actual policy wording is:\\n“In consideration of the additional premium that You paid Us for this endorsement, We agree that the insurance provided under Section A of this Policy will cover loss or damage to Your Car caused by flood, typhoon, hurricane, storm, tempest, volcanic eruption, earthquake, landslide, landslip, subsidence or sinking of the soil / earth or other convulsions of nature.”\\nThe take up rate for Special Perils coverage has increased steady from 11% to 22% according to Allianz General Insurance.\\nOne of the reasons for a higher take up rate is due to the massive flood in Dec 2021 where many motorists are caught off guard and witness their vehicles being damaged by the flood. Secondly, more motorist are now willing to add-on Special Perils coverage due to the reduction in premium. Special Perils rate has been reduced tremendously by more than 50%. From a rate of 0.5% of sum insured to 0.2%. Thus, a vehicle with a sum coverage of RM80,000, the premium for including Special Perils would be RM160.\\nMany a times, a motorist would opt for the cheapest premium without considering any add-on coverage, not knowing that there are certain events that the standard motor insurance does not cover. When there is a storm or heavy rain and assuming your car was damages due to falling tree, the damage will not be covered under your standard comprehensive insurance, unless you have add-on for Special Perils.\\nThus, with the reduction in the premium rate for Special Perils, it is advisable to add-on when you renew your insurance. If you have recently renewed your car insurance and wish to add-on now for Special Perils, you may contact your agent to assist you to pass an endorsement.',\n",
       "  'image': 'https://allianz.renewinsurance.my/wp-content/uploads/2022/09/car-flooded.jpg',\n",
       "  'image_url': ['https://allianz.renewinsurance.my/wp-content/uploads/2022/09/car-flooded.jpg',\n",
       "   'https://allianz.renewinsurance.my/wp-content/uploads/2022/09/car-flooded-1024x768.jpg'],\n",
       "  'image_caption': ['The Special Perils is an additional coverage which motorist can opt for to cover from loss or damage caused by natural disasters such as floods, storms, earthquakes, landslides and so on. The actual policy wording is:',\n",
       "   'The Special Perils is an additional coverage which motorist can opt for to cover from loss or damage caused by natural disasters such as floods, storms, earthquakes, landslides and so on. The actual policy wording is:',\n",
       "   'The Special Perils is an additional coverage which motorist can opt for to cover from loss or damage caused by natural disasters such as floods, storms, earthquakes, landslides and so on. The actual policy wording is:']},\n",
       " {'title': 'News Archives - Renew Allianz Insurance Online',\n",
       "  'author': None,\n",
       "  'url': 'https://allianz.renewinsurance.my/category/news/',\n",
       "  'description': None,\n",
       "  'text': 'Allianz Truck Warrior protecting over 5,000 goods carrying vehicles\\nMORE than 5,000 Allianz Goods-Carrying Vehicle Comprehensive customers have included the Allianz Truck Warrior add-on to their policies since its launch in February. Allianz Truck Warrior is the latest in the Allianz Road Rangers fleet, which offers roadside assistance to motorcycles, cars and now goods-carrying vehicles. This coverage, which opened for issuance on Jan 12,…\\nRead more',\n",
       "  'image': None,\n",
       "  'image_url': ['https://allianz.renewinsurance.my/wp-content/uploads/2022/09/car-flooded-1024x768.jpg'],\n",
       "  'image_caption': ['Caption not found']},\n",
       " {'title': 'admin, Author at Renew Allianz Insurance Online',\n",
       "  'author': 'Admin',\n",
       "  'url': 'https://allianz.renewinsurance.my/author/admin/',\n",
       "  'description': None,\n",
       "  'text': 'Allianz Truck Warrior protecting over 5,000 goods carrying vehicles\\nMORE than 5,000 Allianz Goods-Carrying Vehicle Comprehensive customers have included the Allianz Truck Warrior add-on to their policies since its launch in February. Allianz Truck Warrior is the latest in the Allianz Road Rangers fleet, which offers roadside assistance to motorcycles, cars and now goods-carrying vehicles. This coverage, which opened for issuance on Jan 12,…\\nRead more',\n",
       "  'image': 'https://secure.gravatar.com/avatar/7c70eb397f5eaf414ad7b1051eb22707?s=500&d=mm&r=g',\n",
       "  'image_url': ['https://allianz.renewinsurance.my/wp-content/uploads/2022/09/car-flooded-1024x768.jpg'],\n",
       "  'image_caption': ['Caption not found', 'Image not found']},\n",
       " {'title': 'Flood Car Bag / Plastik Tebal Panjang Banjir Kereta / Reusable Thick Waterproof Plastic Water Flood Protection / Anti Flood Car Wrap / Plastik Bungkus Kereta Banjir / Flood Protection / Plastik Banjir',\n",
       "  'author': None,\n",
       "  'url': 'https://www.lazada.com.my/products/flood-car-bag-plastik-tebal-panjang-banjir-kereta-reusable-thick-waterproof-plastic-water-flood-protection-anti-flood-car-wrap-plastik-bungkus-kereta-banjir-flood-protection-plastik-banjir-i2728587184.html',\n",
       "  'description': 'Reusable Waterproof Car Bag offers comprehensive flood protection for various car types. Made of thick plastic, it shields engines and seats from water damage, suitable for SUVs, sedans, and small cars. - Lazada',\n",
       "  'text': 'INTERNAL FEEDBACK\\nfeedback\\nSAVE MORE ON APP\\nDownload the App for the best experience\\nShop through our app to enjoy:\\nExclusive Vouchers\\nBetter deals\\nPersonalised recommendations\\nFind out first\\nSuccess! Please check your phone for the download link\\nsell on lazada\\ncustomer care\\nHelp Center\\nOrders & Payment\\nShipping & Delivery\\nReturns & Refunds\\nChat\\nTrack my order\\nTrack my order\\nYour order number:\\nFor any other inquiries,\\nClick here\\nLOGIN\\nsignup\\nManage My Account\\nMy Orders\\nMy Wishlist & Followed Stores\\nMy Reviews\\nMy Returns & Cancellations\\nLogout\\nTUKAR BAHASA\\nEnglish / English\\nMalay Language / Bahasa Malaysia\\nCategories\\nLazMall\\nFree Shipping\\nTop up & eStore\\nVoucher\\nFlood Car Bag / Plastik Tebal Panjang Banjir Kereta / Reusable Thick Waterproof Plastic Water Flood Protection / Anti Flood Car Wrap / Plastik Bungkus Kereta Banjir / Flood Protection / Plastik Banjir\\nNo Ratings\\nBrand:\\nNo Brand\\nMore Automotive from No Brand\\nVariation\\nType S - Small Car\\nType L - SUV / MPV\\nType M - Sedan Car\\nType S - Small Car\\nQuantity\\nOut of stock\\nCONTACT US\\nHelp Center\\nHow to Buy\\nShipping & Delivery\\nInternational Product Policy\\nHow to Return\\nQuestion?\\nContact Us\\nLazada\\nAbout Lazada\\nAfﬁliate Program\\nCareers\\nTerms & Conditions\\nPrivacy Policy\\nCampaign Terms & Conditions\\nIntellectual Property Protection\\nAlways Better\\nDownload the App\\nPayment Methods\\nDelivery Services\\nVerified by\\nLazada Southeast Asia\\nFollow Us\\n© Lazada 2025',\n",
       "  'image': None,\n",
       "  'image_url': ['https://my-test-11.slatic.net/shop/2670041a904dde7b8e197c4639b62a66.png',\n",
       "   'https://my-test-11.slatic.net/p/7e70619a337350e28956d8012f58d21e.jpg'],\n",
       "  'image_caption': ['Image not found', 'Image not found']},\n",
       " {'title': 'News - Renew Allianz Insurance Online',\n",
       "  'author': None,\n",
       "  'url': 'https://allianz.renewinsurance.my/news/',\n",
       "  'description': None,\n",
       "  'text': 'Allianz Truck Warrior protecting over 5,000 goods carrying vehicles\\nMORE than 5,000 Allianz Goods-Carrying Vehicle Comprehensive customers have included the Allianz Truck Warrior add-on to their policies since its launch in February. Allianz Truck Warrior is the latest in the Allianz Road Rangers fleet, which offers roadside assistance to motorcycles, cars and now goods-carrying vehicles. This coverage, which opened for issuance on Jan 12,…\\nRead more',\n",
       "  'image': None,\n",
       "  'image_url': ['https://allianz.renewinsurance.my/wp-content/uploads/2022/09/car-flooded-1024x768.jpg'],\n",
       "  'image_caption': ['Caption not found']},\n",
       " {'title': 'Mazda Used Car Platform -Anshin- (@mazdausedcarplatform) • Instagram photos and videos',\n",
       "  'author': None,\n",
       "  'url': 'https://www.instagram.com/mazdausedcarplatform/',\n",
       "  'description': '122 Followers, 38 Following, 42 Posts - See Instagram photos and videos from Mazda Used Car Platform -Anshin- (@mazdausedcarplatform)',\n",
       "  'text': 'Mazda Used Car Platform -Anshin- (@mazdausedcarplatform) • Instagram photos and videos',\n",
       "  'image': 'https://scontent.cdninstagram.com/v/t51.2885-19/155858385_191850308945665_8860542964852309063_n.jpg?stp=dst-jpg_s100x100_tt6&_nc_cat=107&ccb=1-7&_nc_sid=bf7eb4&_nc_ohc=5r-c3GyJsf8Q7kNvgEY6r14&_nc_oc=AdlWn4WWmum-PAOQPOQaV2_XLIjirukr2T18mGSD4un_C72WQF0WXUJQuIuufwZ5xuU&_nc_zt=24&_nc_ht=scontent.cdninstagram.com&oh=00_AYHqvSQ_4W04rPCMwfohNdvuX_o_nNEd6Q81nK7NT2ZZuw&oe=67E4B51D',\n",
       "  'image_url': ['https://lookaside.instagram.com/seo/google_widget/crawler/?media_id=2734729719057870149'],\n",
       "  'image_caption': ['Image not found', 'Image not found']},\n",
       " {'title': '‘Do not start car during and after floods’',\n",
       "  'author': 'CLEAN ADHESIVES',\n",
       "  'url': 'https://www.thestar.com.my/news/nation/2021/12/21/do-not-start-car-during-and-after-floods',\n",
       "  'description': 'GEORGE TOWN: Leave your car as it is in the event it gets trapped in a flood.',\n",
       "  'text': 'Costly repairs: Several cars partly submerged in water outside a flat in Shah Alam. — Picture taken from social media\\nGEORGE TOWN: Leave your car as it is in the event it gets trapped in a flood.\\nTrying to start the engine after the floodwaters recede can cost you thousands of ringgit in repairs.',\n",
       "  'image': 'https://apicms.thestar.com.my/uploads/images/2021/12/21/1414404.jpg',\n",
       "  'image_url': ['https://apicms.thestar.com.my/uploads/images/2021/12/21/1414404.webp'],\n",
       "  'image_caption': ['Sibu, Kapit residents in flood risk areas urged to evacuate',\n",
       "   'Sibu, Kapit residents in flood risk areas urged to evacuate']},\n",
       " {'title': '‘Do not start car during and after floods’',\n",
       "  'author': 'The Star Online',\n",
       "  'url': 'https://news.nestia.com/detail_share/8044929?media_type=1',\n",
       "  'description': 'GEORGE TOWN: Leave your car as it is in the event it gets trapped in a flood.Malaysian Automotive Association president Datuk Aishah Ahmad said that during and after flash floods, car owners should ne',\n",
       "  'text': '‘Do not start car during and after floods’\\nGEORGE TOWN: Leave your car as it is in the event it gets trapped in a flood.\\nTrying to start the engine after the floodwaters recede can cost you thousands of ringgit in repairs.\\nMalaysian Automotive Association president Datuk Aishah Ahmad said that during and after flash floods, car owners should never attempt to start their vehicles.……\\nRead full article on The Star Online - News\\nFlood Vehicle Entertainment Malaysia',\n",
       "  'image': 'https://nestia-food-obs-ap-southeast-3.nestia.com/202112/21/7e70619a337350e28956d8012f58d21e_750x750.jpg',\n",
       "  'image_url': ['https://nestia-food.obs.ap-southeast-3.myhuaweicloud.com/202112/21/7e70619a337350e28956d8012f58d21e.jpg'],\n",
       "  'image_caption': ['‘Do not start car during and after floods’',\n",
       "   '‘Do not start car during and after floods’']},\n",
       " {'title': 'Please update your browser',\n",
       "  'author': None,\n",
       "  'url': 'https://www.youtube.com/watch?v=h4apn0ODxYU',\n",
       "  'description': None,\n",
       "  'text': '! [] ( https://www.youtube.com/img/desktop/supported_browsers/dinosaur.png)\\nPlease update your browser\\nYour browser is no longer supported. Please update your browser for the best experience and enjoy the latest features on YouTube. Learn moreRemind me later\\nYour browser is no longer supported. Please update your browser for the best experience and enjoy the latest features on YouTube. Learn moreRemind me later',\n",
       "  'image': None,\n",
       "  'image_url': ['https://i.ytimg.com/vi/h4apn0ODxYU/hq720.jpg?sqp=-oaymwEhCK4FEIIDSFryq4qpAxMIARUAAAAAGAElAADIQj0AgKJD&rs=AOn4CLD0a5b6zBJ_fms830qDG3zqzHTcNA',\n",
       "   'https://i.ytimg.com/vi/h4apn0ODxYU/mqdefault.jpg',\n",
       "   'https://i.ytimg.com/vi/h4apn0ODxYU/maxresdefault.jpg'],\n",
       "  'image_caption': ['Image not found', 'Image not found', 'Image not found']},\n",
       " {'title': 'Floody car bag',\n",
       "  'author': None,\n",
       "  'url': 'https://www.facebook.com/p/Floody-car-bag-100064562534452/',\n",
       "  'description': 'Floody car bag. 26.616 lượt thích. Floody bag To prevent the flooding Save money Agent/consumers are welcome to enquiry Exclusive Malaysia Distributor � 60192100256',\n",
       "  'text': 'Floody car bag',\n",
       "  'image': 'https://scontent.fsgn5-5.fna.fbcdn.net/v/t39.30808-1/313422849_486771886818225_4399865994484473580_n.jpg?cstp=mx960x960&ctp=s720x720&_nc_cat=100&ccb=1-7&_nc_sid=3ab345&_nc_ohc=g_BrEY04lWYQ7kNvgE8G48T&_nc_oc=AdmuON6cGBZpbPlw4FxsCp9WxA83eFcf_xRw1BxPUKR4VBdjwpmHbdHTqdaVNHx1Waw&_nc_zt=24&_nc_ht=scontent.fsgn5-5.fna&_nc_gid=laVs68pq2iRQqNZCjsEWpQ&oh=00_AYGkBSA0jU7Yl2NxXKJBUBvfQA5Z5yVMLf_y3LzCYgT9pw&oe=67E4CBA2',\n",
       "  'image_url': ['https://lookaside.fbsbx.com/lookaside/crawler/media/?media_id=3084102451877893'],\n",
       "  'image_caption': ['Image not found', 'Image not found']},\n",
       " {'title': 'Floody car bag',\n",
       "  'author': None,\n",
       "  'url': 'https://www.facebook.com/p/Floody-car-bag-100064562534452/?locale=de_DE',\n",
       "  'description': 'Floody car bag. Gefällt 26.616 Mal. Floody bag To prevent the flooding Save money Agent/consumers are welcome to enquiry Exclusive Malaysia Distributor � 60192100256',\n",
       "  'text': 'Floody car bag',\n",
       "  'image': 'https://scontent.fsgn5-5.fna.fbcdn.net/v/t39.30808-1/313422849_486771886818225_4399865994484473580_n.jpg?cstp=mx960x960&ctp=s720x720&_nc_cat=100&ccb=1-7&_nc_sid=3ab345&_nc_ohc=g_BrEY04lWYQ7kNvgE8G48T&_nc_oc=AdmuON6cGBZpbPlw4FxsCp9WxA83eFcf_xRw1BxPUKR4VBdjwpmHbdHTqdaVNHx1Waw&_nc_zt=24&_nc_ht=scontent.fsgn5-5.fna&_nc_gid=gTxX2KPZrXFsQtmerLzyoQ&oh=00_AYH96JLHwbZJInav9Z5sDockuONEksZGttascM3ibN6OFQ&oe=67E4CBA2',\n",
       "  'image_url': ['https://lookaside.fbsbx.com/lookaside/crawler/media/?media_id=3084102451877893'],\n",
       "  'image_caption': ['Image not found', 'Image not found']},\n",
       " {'title': 'Floody car bag',\n",
       "  'author': None,\n",
       "  'url': 'https://www.facebook.com/p/Floody-car-bag-100064562534452/?locale=fy_NL',\n",
       "  'description': \"Floody car bag. 26.616 mei-'k-wol-oers. Floody bag To prevent the flooding Save money Agent/consumers are welcome to enquiry Exclusive Malaysia Distributor � 60192100256\",\n",
       "  'text': 'Floody car bag',\n",
       "  'image': 'https://scontent.fsgn5-5.fna.fbcdn.net/v/t39.30808-1/313422849_486771886818225_4399865994484473580_n.jpg?cstp=mx960x960&ctp=s720x720&_nc_cat=100&ccb=1-7&_nc_sid=3ab345&_nc_ohc=g_BrEY04lWYQ7kNvgE8G48T&_nc_oc=AdmuON6cGBZpbPlw4FxsCp9WxA83eFcf_xRw1BxPUKR4VBdjwpmHbdHTqdaVNHx1Waw&_nc_zt=24&_nc_ht=scontent.fsgn5-5.fna&_nc_gid=6e89ElYhNOW29iSUiw8nTQ&oh=00_AYEVcBr2I2cHrScPxVB2YbRNv2ordOWOx6jVAMfeMcqj-w&oe=67E4CBA2',\n",
       "  'image_url': ['https://lookaside.fbsbx.com/lookaside/crawler/media/?media_id=3084102451877893'],\n",
       "  'image_caption': ['Image not found', 'Image not found']},\n",
       " {'title': 'Floody car bag',\n",
       "  'author': None,\n",
       "  'url': 'https://www.facebook.com/p/Floody-car-bag-100064562534452/?locale=nb_NO',\n",
       "  'description': 'Floody car bag. 26 616 liker dette. Floody bag To prevent the flooding Save money Agent/consumers are welcome to enquiry Exclusive Malaysia Distributor � 60192100256',\n",
       "  'text': 'Floody car bag',\n",
       "  'image': 'https://scontent.fsgn5-5.fna.fbcdn.net/v/t39.30808-1/313422849_486771886818225_4399865994484473580_n.jpg?cstp=mx960x960&ctp=s720x720&_nc_cat=100&ccb=1-7&_nc_sid=3ab345&_nc_ohc=g_BrEY04lWYQ7kNvgE8G48T&_nc_oc=AdmuON6cGBZpbPlw4FxsCp9WxA83eFcf_xRw1BxPUKR4VBdjwpmHbdHTqdaVNHx1Waw&_nc_zt=24&_nc_ht=scontent.fsgn5-5.fna&_nc_gid=DYqnkdyt6fWMFVkvJnNgow&oh=00_AYHexiZIrVKAo_FLz9EykNXXMdzrlxa0P_FjV-2w8QBJWg&oe=67E4CBA2',\n",
       "  'image_url': ['https://lookaside.fbsbx.com/lookaside/crawler/media/?media_id=3084102451877893'],\n",
       "  'image_caption': ['Image not found', 'Image not found']}]"
      ]
     },
     "execution_count": 119,
     "metadata": {},
     "output_type": "execute_result"
    }
   ],
   "source": [
    "output"
   ]
  },
  {
   "cell_type": "code",
   "execution_count": 120,
   "metadata": {},
   "outputs": [],
   "source": [
    "evidence = merge_data(output, selected_retrieval_results).fillna('').to_dict(orient='records')"
   ]
  },
  {
   "cell_type": "code",
   "execution_count": 153,
   "metadata": {},
   "outputs": [
    {
     "data": {
      "text/plain": [
       "[{'image_path': 'false_246.jpg',\n",
       "  'title': ['‘Do not start car during and after floods’',\n",
       "   'The Porsche Lover',\n",
       "   'Increased in Special Perils Take Up Rate - Renew Allianz Insurance Online',\n",
       "   'Mazda Used Car Platform -Anshin- (@mazdausedcarplatform) • Instagram photos and videos',\n",
       "   'admin, Author at Renew Allianz Insurance Online',\n",
       "   'Flood Car Bag / Plastik Tebal Panjang Banjir Kereta / Reusable Thick Waterproof Plastic Water Flood Protection / Anti Flood Car Wrap / Plastik Bungkus Kereta Banjir / Flood Protection / Plastik Banjir',\n",
       "   'Floody car bag'],\n",
       "  'author': ['Admin', 'CLEAN ADHESIVES', 'The Star Online'],\n",
       "  'description': ['Floody car bag. Gefällt 26.616 Mal. Floody bag To prevent the flooding Save money Agent/consumers are welcome to enquiry Exclusive Malaysia Distributor � 60192100256',\n",
       "   \"Hi! I'm Adrian, The Porsche Lover & on my channel, I will be sharing the passion for Porsches. I will also be sharing on car tips ranging from maintenance, technical and even products. 😬\",\n",
       "   'Floody car bag. 26.616 lượt thích. Floody bag To prevent the flooding Save money Agent/consumers are welcome to enquiry Exclusive Malaysia Distributor � 60192100256',\n",
       "   'Floody car bag. 26 616 liker dette. Floody bag To prevent the flooding Save money Agent/consumers are welcome to enquiry Exclusive Malaysia Distributor � 60192100256',\n",
       "   'GEORGE TOWN: Leave your car as it is in the event it gets trapped in a flood.Malaysian Automotive Association president Datuk Aishah Ahmad said that during and after flash floods, car owners should ne',\n",
       "   \"Floody car bag. 26.616 mei-'k-wol-oers. Floody bag To prevent the flooding Save money Agent/consumers are welcome to enquiry Exclusive Malaysia Distributor � 60192100256\",\n",
       "   'The Special Perils is an additional coverage which motorist can opt for to cover from loss or damage caused by natural disasters such as floods, storms, earthquakes, landslides and so on.',\n",
       "   'Reusable Waterproof Car Bag offers comprehensive flood protection for various car types. Made of thick plastic, it shields engines and seats from water damage, suitable for SUVs, sedans, and small cars. - Lazada',\n",
       "   '122 Followers, 38 Following, 42 Posts - See Instagram photos and videos from Mazda Used Car Platform -Anshin- (@mazdausedcarplatform)',\n",
       "   'GEORGE TOWN: Leave your car as it is in the event it gets trapped in a flood.'],\n",
       "  'image': ['https://nestia-food-obs-ap-southeast-3.nestia.com/202112/21/7e70619a337350e28956d8012f58d21e_750x750.jpg',\n",
       "   'https://scontent.fsgn5-5.fna.fbcdn.net/v/t39.30808-1/313422849_486771886818225_4399865994484473580_n.jpg?cstp=mx960x960&ctp=s720x720&_nc_cat=100&ccb=1-7&_nc_sid=3ab345&_nc_ohc=g_BrEY04lWYQ7kNvgE8G48T&_nc_oc=AdmuON6cGBZpbPlw4FxsCp9WxA83eFcf_xRw1BxPUKR4VBdjwpmHbdHTqdaVNHx1Waw&_nc_zt=24&_nc_ht=scontent.fsgn5-5.fna&_nc_gid=DYqnkdyt6fWMFVkvJnNgow&oh=00_AYHexiZIrVKAo_FLz9EykNXXMdzrlxa0P_FjV-2w8QBJWg&oe=67E4CBA2',\n",
       "   'https://scontent.fsgn5-5.fna.fbcdn.net/v/t39.30808-1/313422849_486771886818225_4399865994484473580_n.jpg?cstp=mx960x960&ctp=s720x720&_nc_cat=100&ccb=1-7&_nc_sid=3ab345&_nc_ohc=g_BrEY04lWYQ7kNvgE8G48T&_nc_oc=AdmuON6cGBZpbPlw4FxsCp9WxA83eFcf_xRw1BxPUKR4VBdjwpmHbdHTqdaVNHx1Waw&_nc_zt=24&_nc_ht=scontent.fsgn5-5.fna&_nc_gid=6e89ElYhNOW29iSUiw8nTQ&oh=00_AYEVcBr2I2cHrScPxVB2YbRNv2ordOWOx6jVAMfeMcqj-w&oe=67E4CBA2',\n",
       "   'https://secure.gravatar.com/avatar/7c70eb397f5eaf414ad7b1051eb22707?s=500&d=mm&r=g',\n",
       "   'https://scontent.fsgn5-5.fna.fbcdn.net/v/t39.30808-1/313422849_486771886818225_4399865994484473580_n.jpg?cstp=mx960x960&ctp=s720x720&_nc_cat=100&ccb=1-7&_nc_sid=3ab345&_nc_ohc=g_BrEY04lWYQ7kNvgE8G48T&_nc_oc=AdmuON6cGBZpbPlw4FxsCp9WxA83eFcf_xRw1BxPUKR4VBdjwpmHbdHTqdaVNHx1Waw&_nc_zt=24&_nc_ht=scontent.fsgn5-5.fna&_nc_gid=laVs68pq2iRQqNZCjsEWpQ&oh=00_AYGkBSA0jU7Yl2NxXKJBUBvfQA5Z5yVMLf_y3LzCYgT9pw&oe=67E4CBA2',\n",
       "   'https://allianz.renewinsurance.my/wp-content/uploads/2022/09/car-flooded.jpg',\n",
       "   'https://apicms.thestar.com.my/uploads/images/2021/12/21/1414404.jpg',\n",
       "   'https://yt3.googleusercontent.com/kgeUtj0EDvHosAANkPJInYQgoDfvVjMyv7FJSdxmOKWzK6UbxNkcnVdTKvKEqU3tugOWuEIBXA=s900-c-k-c0x00ffffff-no-rj',\n",
       "   'https://scontent.fsgn5-5.fna.fbcdn.net/v/t39.30808-1/313422849_486771886818225_4399865994484473580_n.jpg?cstp=mx960x960&ctp=s720x720&_nc_cat=100&ccb=1-7&_nc_sid=3ab345&_nc_ohc=g_BrEY04lWYQ7kNvgE8G48T&_nc_oc=AdmuON6cGBZpbPlw4FxsCp9WxA83eFcf_xRw1BxPUKR4VBdjwpmHbdHTqdaVNHx1Waw&_nc_zt=24&_nc_ht=scontent.fsgn5-5.fna&_nc_gid=gTxX2KPZrXFsQtmerLzyoQ&oh=00_AYH96JLHwbZJInav9Z5sDockuONEksZGttascM3ibN6OFQ&oe=67E4CBA2',\n",
       "   'https://scontent.cdninstagram.com/v/t51.2885-19/155858385_191850308945665_8860542964852309063_n.jpg?stp=dst-jpg_s100x100_tt6&_nc_cat=107&ccb=1-7&_nc_sid=bf7eb4&_nc_ohc=5r-c3GyJsf8Q7kNvgEY6r14&_nc_oc=AdlWn4WWmum-PAOQPOQaV2_XLIjirukr2T18mGSD4un_C72WQF0WXUJQuIuufwZ5xuU&_nc_zt=24&_nc_ht=scontent.cdninstagram.com&oh=00_AYHqvSQ_4W04rPCMwfohNdvuX_o_nNEd6Q81nK7NT2ZZuw&oe=67E4B51D'],\n",
       "  'image_url': ['https://allianz.renewinsurance.my/wp-content/uploads/2022/09/car-flooded-1024x768.jpg',\n",
       "   'https://i.ytimg.com/vi/HOl-zmrqqNM/hqdefault.jpg',\n",
       "   'https://apicms.thestar.com.my/uploads/images/2021/12/21/1414404.webp',\n",
       "   'https://allianz.renewinsurance.my/wp-content/uploads/2022/09/car-flooded.jpg',\n",
       "   'https://lookaside.instagram.com/seo/google_widget/crawler/?media_id=2734729719057870149',\n",
       "   'https://my-test-11.slatic.net/p/7e70619a337350e28956d8012f58d21e.jpg',\n",
       "   'https://nestia-food.obs.ap-southeast-3.myhuaweicloud.com/202112/21/7e70619a337350e28956d8012f58d21e.jpg',\n",
       "   'https://my-test-11.slatic.net/shop/2670041a904dde7b8e197c4639b62a66.png',\n",
       "   'https://lookaside.fbsbx.com/lookaside/crawler/media/?media_id=3084102451877893'],\n",
       "  'image_caption': ['‘Do not start car during and after floods’',\n",
       "   'Sibu, Kapit residents in flood risk areas urged to evacuate',\n",
       "   'Image not found',\n",
       "   'Caption not found',\n",
       "   'The Special Perils is an additional coverage which motorist can opt for to cover from loss or damage caused by natural disasters such as floods, storms, earthquakes, landslides and so on. The actual policy wording is:']}]"
      ]
     },
     "execution_count": 153,
     "metadata": {},
     "output_type": "execute_result"
    }
   ],
   "source": [
    "evidence"
   ]
  },
  {
   "cell_type": "code",
   "execution_count": null,
   "metadata": {},
   "outputs": [],
   "source": []
  }
 ],
 "metadata": {
  "kernelspec": {
   "display_name": "lavis",
   "language": "python",
   "name": "python3"
  },
  "language_info": {
   "codemirror_mode": {
    "name": "ipython",
    "version": 3
   },
   "file_extension": ".py",
   "mimetype": "text/x-python",
   "name": "python",
   "nbconvert_exporter": "python",
   "pygments_lexer": "ipython3",
   "version": "3.9.21"
  }
 },
 "nbformat": 4,
 "nbformat_minor": 2
}
